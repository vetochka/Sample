{
 "cells":[
  {
   "cell_type":"markdown",
   "source":[
    "# Homework"
   ],
   "attachments":{},
   "metadata":{
    "datalore":{
     "node_id":"Homework",
     "type":"MD",
     "hide_input_from_viewers":false,
     "hide_output_from_viewers":false,
     "sheet_delimiter":true
    }
   }
  },
  {
   "cell_type":"code",
   "source":[
    "import pandas as pd"
   ],
   "execution_count":null,
   "outputs":[],
   "metadata":{
    "datalore":{
     "node_id":"7fVyyKwFDVNpbUgl6eU68o",
     "type":"CODE",
     "hide_input_from_viewers":true,
     "hide_output_from_viewers":true
    }
   }
  },
  {
   "cell_type":"markdown",
   "source":[
    "# Завдання 1\n",
    "Проаналізувати дані ЗНО за 2021 рік і зробити аналітичні висновки."
   ],
   "attachments":{},
   "metadata":{
    "datalore":{
     "node_id":"GjTK5ISxkKVle5nV5LI59c",
     "type":"MD",
     "hide_input_from_viewers":true,
     "hide_output_from_viewers":true
    }
   }
  },
  {
   "cell_type":"markdown",
   "source":[
    "Завантажте з допомогою бібліотеки `Pandas` файл `zno-2021.pckl`. Використайте метод `read_pickle`. \n",
    "\n",
    "Збережіть дані в змінну `df`."
   ],
   "attachments":{},
   "metadata":{
    "datalore":{
     "node_id":"IlvFJ6XXLodwdVPjYKcybN",
     "type":"MD",
     "hide_input_from_viewers":true,
     "hide_output_from_viewers":true
    }
   }
  },
  {
   "cell_type":"code",
   "source":[
    "df = pd.read_pickle('zno-2021.pckl')"
   ],
   "execution_count":null,
   "outputs":[],
   "metadata":{
    "datalore":{
     "node_id":"FTZmiyPuNg0KeHmSGIgVNJ",
     "type":"CODE",
     "hide_input_from_viewers":true,
     "hide_output_from_viewers":true
    }
   }
  },
  {
   "cell_type":"markdown",
   "source":[
    "За допомогою методу `describe` - виведіть описову статистику."
   ],
   "attachments":{},
   "metadata":{
    "datalore":{
     "node_id":"FfwXKx6jCDPgycaHK1SdG3",
     "type":"MD",
     "hide_input_from_viewers":true,
     "hide_output_from_viewers":true
    }
   }
  },
  {
   "cell_type":"code",
   "source":[
    "#статистичні метрики для числових стовбців\n",
    "df.describe()"
   ],
   "execution_count":5,
   "outputs":[
    {
     "name":"stdout",
     "text":[
      "\n"
     ],
     "output_type":"stream"
    },
    {
     "name":"stderr",
     "text":[
      "\n"
     ],
     "output_type":"stream"
    },
    {
     "data":{
      "text\/html":[
       "<div>\n",
       "<style scoped>\n",
       "    .dataframe tbody tr th:only-of-type {\n",
       "        vertical-align: middle;\n",
       "    }\n",
       "\n",
       "    .dataframe tbody tr th {\n",
       "        vertical-align: top;\n",
       "    }\n",
       "\n",
       "    .dataframe thead th {\n",
       "        text-align: right;\n",
       "    }\n",
       "<\/style>\n",
       "<table border=\"1\" class=\"dataframe\">\n",
       "  <thead>\n",
       "    <tr style=\"text-align: right;\">\n",
       "      <th><\/th>\n",
       "      <th>Birth<\/th>\n",
       "      <th>MathBall12<\/th>\n",
       "      <th>MathBall<\/th>\n",
       "      <th>MathStBall12<\/th>\n",
       "      <th>MathStBall<\/th>\n",
       "    <\/tr>\n",
       "  <\/thead>\n",
       "  <tbody>\n",
       "    <tr>\n",
       "      <th>count<\/th>\n",
       "      <td>389323.000000<\/td>\n",
       "      <td>220216.000000<\/td>\n",
       "      <td>244202.000000<\/td>\n",
       "      <td>8618.000000<\/td>\n",
       "      <td>0.0<\/td>\n",
       "    <\/tr>\n",
       "    <tr>\n",
       "      <th>mean<\/th>\n",
       "      <td>2002.788905<\/td>\n",
       "      <td>5.319554<\/td>\n",
       "      <td>19.605118<\/td>\n",
       "      <td>3.532606<\/td>\n",
       "      <td>NaN<\/td>\n",
       "    <\/tr>\n",
       "    <tr>\n",
       "      <th>std<\/th>\n",
       "      <td>3.261747<\/td>\n",
       "      <td>2.736655<\/td>\n",
       "      <td>14.488172<\/td>\n",
       "      <td>1.743016<\/td>\n",
       "      <td>NaN<\/td>\n",
       "    <\/tr>\n",
       "    <tr>\n",
       "      <th>min<\/th>\n",
       "      <td>1951.000000<\/td>\n",
       "      <td>1.000000<\/td>\n",
       "      <td>0.000000<\/td>\n",
       "      <td>1.000000<\/td>\n",
       "      <td>NaN<\/td>\n",
       "    <\/tr>\n",
       "    <tr>\n",
       "      <th>25%<\/th>\n",
       "      <td>2003.000000<\/td>\n",
       "      <td>3.000000<\/td>\n",
       "      <td>8.000000<\/td>\n",
       "      <td>2.000000<\/td>\n",
       "      <td>NaN<\/td>\n",
       "    <\/tr>\n",
       "    <tr>\n",
       "      <th>50%<\/th>\n",
       "      <td>2004.000000<\/td>\n",
       "      <td>5.000000<\/td>\n",
       "      <td>14.000000<\/td>\n",
       "      <td>3.000000<\/td>\n",
       "      <td>NaN<\/td>\n",
       "    <\/tr>\n",
       "    <tr>\n",
       "      <th>75%<\/th>\n",
       "      <td>2004.000000<\/td>\n",
       "      <td>7.000000<\/td>\n",
       "      <td>28.000000<\/td>\n",
       "      <td>4.000000<\/td>\n",
       "      <td>NaN<\/td>\n",
       "    <\/tr>\n",
       "    <tr>\n",
       "      <th>max<\/th>\n",
       "      <td>2007.000000<\/td>\n",
       "      <td>12.000000<\/td>\n",
       "      <td>67.000000<\/td>\n",
       "      <td>12.000000<\/td>\n",
       "      <td>NaN<\/td>\n",
       "    <\/tr>\n",
       "  <\/tbody>\n",
       "<\/table>\n",
       "<\/div>"
      ]
     },
     "metadata":{},
     "output_type":"display_data"
    },
    {
     "data":{
      "text\/plain":[
       "               Birth     MathBall12       MathBall  MathStBall12  MathStBall\n",
       "count  389323.000000  220216.000000  244202.000000   8618.000000         0.0\n",
       "mean     2002.788905       5.319554      19.605118      3.532606         NaN\n",
       "std         3.261747       2.736655      14.488172      1.743016         NaN\n",
       "min      1951.000000       1.000000       0.000000      1.000000         NaN\n",
       "25%      2003.000000       3.000000       8.000000      2.000000         NaN\n",
       "50%      2004.000000       5.000000      14.000000      3.000000         NaN\n",
       "75%      2004.000000       7.000000      28.000000      4.000000         NaN\n",
       "max      2007.000000      12.000000      67.000000     12.000000         NaN"
      ]
     },
     "metadata":{},
     "output_type":"display_data"
    }
   ],
   "metadata":{
    "datalore":{
     "node_id":"25pRJJnkXt1Nbgg86094hw",
     "type":"CODE",
     "hide_input_from_viewers":true,
     "hide_output_from_viewers":true
    }
   }
  },
  {
   "cell_type":"markdown",
   "source":[
    "За допомогою методу `info` - виведіть загальну інформацію про фрейм."
   ],
   "attachments":{},
   "metadata":{
    "datalore":{
     "node_id":"BtDhH2PzHiqUvSPX4fDrvb",
     "type":"MD",
     "hide_input_from_viewers":true,
     "hide_output_from_viewers":true
    }
   }
  },
  {
   "cell_type":"code",
   "source":[
    "df.info()"
   ],
   "execution_count":7,
   "outputs":[
    {
     "name":"stdout",
     "text":[
      "<class 'pandas.core.frame.DataFrame'>\n",
      "RangeIndex: 389323 entries, 0 to 389322\n",
      "Data columns (total 36 columns):\n",
      " #   Column            Non-Null Count   Dtype  \n",
      "---  ------            --------------   -----  \n",
      " 0   OUTID             389323 non-null  object \n",
      " 1   Birth             389323 non-null  int64  \n",
      " 2   SexTypeName       389323 non-null  object \n",
      " 3   RegName           389323 non-null  object \n",
      " 4   AREANAME          389323 non-null  object \n",
      " 5   TERNAME           389323 non-null  object \n",
      " 6   RegTypeName       389323 non-null  object \n",
      " 7   TerTypeName       389323 non-null  object \n",
      " 8   ClassProfileNAME  337741 non-null  object \n",
      " 9   ClassLangName     337741 non-null  object \n",
      " 10  EONAME            337741 non-null  object \n",
      " 11  EOTypeName        337741 non-null  object \n",
      " 12  EORegName         337741 non-null  object \n",
      " 13  EOAreaName        337741 non-null  object \n",
      " 14  EOTerName         337741 non-null  object \n",
      " 15  EOParent          334079 non-null  object \n",
      " 16  MathTest          291789 non-null  object \n",
      " 17  MathLang          291789 non-null  object \n",
      " 18  MathTestStatus    291789 non-null  object \n",
      " 19  MathBall100       244202 non-null  object \n",
      " 20  MathBall12        220216 non-null  float64\n",
      " 21  MathDpaLevel      260300 non-null  object \n",
      " 22  MathBall          244202 non-null  float64\n",
      " 23  MathPTName        291789 non-null  object \n",
      " 24  MathPTRegName     291789 non-null  object \n",
      " 25  MathPTAreaName    291789 non-null  object \n",
      " 26  MathPTTerName     291789 non-null  object \n",
      " 27  MathStTest        77320 non-null   object \n",
      " 28  MathStLang        77320 non-null   object \n",
      " 29  MathStTestStatus  77320 non-null   object \n",
      " 30  MathStBall12      8618 non-null    float64\n",
      " 31  MathStBall        0 non-null       float64\n",
      " 32  MathStPTName      77320 non-null   object \n",
      " 33  MathStPTRegName   77320 non-null   object \n",
      " 34  MathStPTAreaName  77320 non-null   object \n",
      " 35  MathStPTTerName   77320 non-null   object \n",
      "dtypes: float64(4), int64(1), object(31)\n",
      "memory usage: 60.9+ MB\n"
     ],
     "output_type":"stream"
    }
   ],
   "metadata":{
    "datalore":{
     "node_id":"iL6tI76L1m0iPBTLl25Sxr",
     "type":"CODE",
     "hide_input_from_viewers":true,
     "hide_output_from_viewers":true
    }
   }
  },
  {
   "cell_type":"markdown",
   "source":[
    "Яка розмірність набору даних?"
   ],
   "attachments":{},
   "metadata":{
    "datalore":{
     "node_id":"4tD6ZT5zvCVGIKMPWiO8ps",
     "type":"MD",
     "hide_input_from_viewers":true,
     "hide_output_from_viewers":true
    }
   }
  },
  {
   "cell_type":"code",
   "source":[
    "df.shape"
   ],
   "execution_count":9,
   "outputs":[
    {
     "data":{
      "text\/plain":[
       "(389323, 36)"
      ]
     },
     "metadata":{},
     "output_type":"display_data"
    }
   ],
   "metadata":{
    "datalore":{
     "node_id":"HTZiVzwvkDxr5YKBF88XMv",
     "type":"CODE",
     "hide_input_from_viewers":true,
     "hide_output_from_viewers":true
    }
   }
  },
  {
   "cell_type":"markdown",
   "source":[
    "Використовуючи метод заміни символів (`str.replace`) та метод перетворення типів (`astype`) - перетворіть `MathBall100` в тип `float`."
   ],
   "attachments":{},
   "metadata":{
    "datalore":{
     "node_id":"uxBqmXxXnDV00sQAtAjPJX",
     "type":"MD",
     "hide_input_from_viewers":true,
     "hide_output_from_viewers":true
    }
   }
  },
  {
   "cell_type":"code",
   "source":[
    "#df[['MathBall100','MathBall']]\n",
    "df['MathBall100'] = df['MathBall100'].str.replace(',','.')\n",
    "df.MathBall100 = df.MathBall100.astype('float64')"
   ],
   "execution_count":null,
   "outputs":[],
   "metadata":{
    "datalore":{
     "node_id":"zmxHb2KBb2iar90bU74epB",
     "type":"CODE",
     "hide_input_from_viewers":true,
     "hide_output_from_viewers":true
    }
   }
  },
  {
   "cell_type":"markdown",
   "source":[
    "Виведіть всі назви колонки, вкористовуючи відповідний метод."
   ],
   "attachments":{},
   "metadata":{
    "datalore":{
     "node_id":"f5wdhGRKwckqNVn7s7cv1U",
     "type":"MD",
     "hide_input_from_viewers":true,
     "hide_output_from_viewers":true
    }
   }
  },
  {
   "cell_type":"code",
   "source":[
    "df.columns"
   ],
   "execution_count":24,
   "outputs":[
    {
     "data":{
      "text\/plain":[
       "Index(['OUTID', 'Birth', 'SexTypeName', 'RegName', 'AREANAME', 'TERNAME',\n",
       "       'RegTypeName', 'TerTypeName', 'ClassProfileNAME', 'ClassLangName',\n",
       "       'EONAME', 'EOTypeName', 'EORegName', 'EOAreaName', 'EOTerName',\n",
       "       'EOParent', 'MathTest', 'MathLang', 'MathTestStatus', 'MathBall100',\n",
       "       'MathBall12', 'MathDpaLevel', 'MathBall', 'MathPTName', 'MathPTRegName',\n",
       "       'MathPTAreaName', 'MathPTTerName', 'MathStTest', 'MathStLang',\n",
       "       'MathStTestStatus', 'MathStBall12', 'MathStBall', 'MathStPTName',\n",
       "       'MathStPTRegName', 'MathStPTAreaName', 'MathStPTTerName'],\n",
       "      dtype='object')"
      ]
     },
     "metadata":{},
     "output_type":"display_data"
    }
   ],
   "metadata":{
    "datalore":{
     "node_id":"HAVs73DqaToGvd1frnCciv",
     "type":"CODE",
     "hide_input_from_viewers":true,
     "hide_output_from_viewers":true
    }
   }
  },
  {
   "cell_type":"markdown",
   "source":[
    "Видалити з `DataFrame` всі колонки, які містять слово `MathSt`."
   ],
   "attachments":{},
   "metadata":{
    "datalore":{
     "node_id":"vWPrhl7TGXX6ICQstKy4RS",
     "type":"MD",
     "hide_input_from_viewers":true,
     "hide_output_from_viewers":true
    }
   }
  },
  {
   "cell_type":"code",
   "source":[
    "df = df[df.columns.drop(list(df.filter(regex='MathSt')))]\n",
    "df.columns"
   ],
   "execution_count":5,
   "outputs":[
    {
     "data":{
      "text\/plain":[
       "Index(['OUTID', 'Birth', 'SexTypeName', 'RegName', 'AREANAME', 'TERNAME',\n",
       "       'RegTypeName', 'TerTypeName', 'ClassProfileNAME', 'ClassLangName',\n",
       "       'EONAME', 'EOTypeName', 'EORegName', 'EOAreaName', 'EOTerName',\n",
       "       'EOParent', 'MathTest', 'MathLang', 'MathTestStatus', 'MathBall100',\n",
       "       'MathBall12', 'MathDpaLevel', 'MathBall', 'MathPTName', 'MathPTRegName',\n",
       "       'MathPTAreaName', 'MathPTTerName'],\n",
       "      dtype='object')"
      ]
     },
     "metadata":{},
     "output_type":"display_data"
    }
   ],
   "metadata":{
    "datalore":{
     "node_id":"Mm5q8FS7cvyNBGDYuy5CEj",
     "type":"CODE",
     "hide_input_from_viewers":true,
     "hide_output_from_viewers":true
    }
   }
  },
  {
   "cell_type":"markdown",
   "source":[
    "Відобразіть перший 10 рядків набору даних."
   ],
   "attachments":{},
   "metadata":{
    "datalore":{
     "node_id":"6iPNyq0i5dQqEqD0OWMpLv",
     "type":"MD",
     "hide_input_from_viewers":true,
     "hide_output_from_viewers":true
    }
   }
  },
  {
   "cell_type":"code",
   "source":[
    "df.head(10)"
   ],
   "execution_count":26,
   "outputs":[
    {
     "name":"stdout",
     "text":[
      "\n"
     ],
     "output_type":"stream"
    },
    {
     "name":"stderr",
     "text":[
      "\n"
     ],
     "output_type":"stream"
    },
    {
     "data":{
      "text\/html":[
       "<div>\n",
       "<style scoped>\n",
       "    .dataframe tbody tr th:only-of-type {\n",
       "        vertical-align: middle;\n",
       "    }\n",
       "\n",
       "    .dataframe tbody tr th {\n",
       "        vertical-align: top;\n",
       "    }\n",
       "\n",
       "    .dataframe thead th {\n",
       "        text-align: right;\n",
       "    }\n",
       "<\/style>\n",
       "<table border=\"1\" class=\"dataframe\">\n",
       "  <thead>\n",
       "    <tr style=\"text-align: right;\">\n",
       "      <th><\/th>\n",
       "      <th>OUTID<\/th>\n",
       "      <th>Birth<\/th>\n",
       "      <th>SexTypeName<\/th>\n",
       "      <th>RegName<\/th>\n",
       "      <th>AREANAME<\/th>\n",
       "      <th>TERNAME<\/th>\n",
       "      <th>RegTypeName<\/th>\n",
       "      <th>TerTypeName<\/th>\n",
       "      <th>ClassProfileNAME<\/th>\n",
       "      <th>ClassLangName<\/th>\n",
       "      <th>...<\/th>\n",
       "      <th>MathLang<\/th>\n",
       "      <th>MathTestStatus<\/th>\n",
       "      <th>MathBall100<\/th>\n",
       "      <th>MathBall12<\/th>\n",
       "      <th>MathDpaLevel<\/th>\n",
       "      <th>MathBall<\/th>\n",
       "      <th>MathPTName<\/th>\n",
       "      <th>MathPTRegName<\/th>\n",
       "      <th>MathPTAreaName<\/th>\n",
       "      <th>MathPTTerName<\/th>\n",
       "    <\/tr>\n",
       "  <\/thead>\n",
       "  <tbody>\n",
       "    <tr>\n",
       "      <th>0<\/th>\n",
       "      <td>8a2abef7-625a-4253-8c14-000fe8a856e5<\/td>\n",
       "      <td>2003<\/td>\n",
       "      <td>чоловіча<\/td>\n",
       "      <td>Дніпропетровська область<\/td>\n",
       "      <td>м.Кам'янське<\/td>\n",
       "      <td>Дніпровський район міста<\/td>\n",
       "      <td>Студент закладу вищої освіти<\/td>\n",
       "      <td>місто<\/td>\n",
       "      <td>Молодший спеціаліст<\/td>\n",
       "      <td>українська<\/td>\n",
       "      <td>...<\/td>\n",
       "      <td>українська<\/td>\n",
       "      <td>Зараховано<\/td>\n",
       "      <td>105.0<\/td>\n",
       "      <td>4.0<\/td>\n",
       "      <td>стандарт(академічний)<\/td>\n",
       "      <td>11.0<\/td>\n",
       "      <td>Комунальний заклад \"Середня загальноосвітня шк...<\/td>\n",
       "      <td>Дніпропетровська область<\/td>\n",
       "      <td>м.Кам'янське. Дніпровський район міста<\/td>\n",
       "      <td>Дніпровський район міста<\/td>\n",
       "    <\/tr>\n",
       "    <tr>\n",
       "      <th>1<\/th>\n",
       "      <td>3e975d01-9cc9-4072-bbcd-005b9da75096<\/td>\n",
       "      <td>2003<\/td>\n",
       "      <td>чоловіча<\/td>\n",
       "      <td>Кіровоградська область<\/td>\n",
       "      <td>м.Кропивницький<\/td>\n",
       "      <td>Фортечний район міста<\/td>\n",
       "      <td>Випускник загальноосвітнього навчального закла...<\/td>\n",
       "      <td>місто<\/td>\n",
       "      <td>Технологічний<\/td>\n",
       "      <td>українська<\/td>\n",
       "      <td>...<\/td>\n",
       "      <td>українська<\/td>\n",
       "      <td>Не подолав поріг<\/td>\n",
       "      <td>0.0<\/td>\n",
       "      <td>3.0<\/td>\n",
       "      <td>стандарт(академічний)<\/td>\n",
       "      <td>9.0<\/td>\n",
       "      <td>Кіровоградський медичний фаховий коледж ім. Є....<\/td>\n",
       "      <td>Кіровоградська область<\/td>\n",
       "      <td>м.Кропивницький. Подільський район міста<\/td>\n",
       "      <td>Подільський район міста<\/td>\n",
       "    <\/tr>\n",
       "    <tr>\n",
       "      <th>2<\/th>\n",
       "      <td>58c926c3-8718-4845-918b-00155b917934<\/td>\n",
       "      <td>2003<\/td>\n",
       "      <td>чоловіча<\/td>\n",
       "      <td>Дніпропетровська область<\/td>\n",
       "      <td>м.Дніпро<\/td>\n",
       "      <td>Соборний район міста<\/td>\n",
       "      <td>Студент закладу вищої освіти<\/td>\n",
       "      <td>місто<\/td>\n",
       "      <td>Молодший спеціаліст<\/td>\n",
       "      <td>українська<\/td>\n",
       "      <td>...<\/td>\n",
       "      <td>українська<\/td>\n",
       "      <td>Не з’явився<\/td>\n",
       "      <td>NaN<\/td>\n",
       "      <td>NaN<\/td>\n",
       "      <td>стандарт(академічний)<\/td>\n",
       "      <td>NaN<\/td>\n",
       "      <td>Комунальний заклад освіти \"Середня загальноосв...<\/td>\n",
       "      <td>Дніпропетровська область<\/td>\n",
       "      <td>м.Дніпро. Центральний район міста<\/td>\n",
       "      <td>Центральний район міста<\/td>\n",
       "    <\/tr>\n",
       "    <tr>\n",
       "      <th>3<\/th>\n",
       "      <td>443f89c2-84e7-4a56-bea3-005c776e0121<\/td>\n",
       "      <td>2004<\/td>\n",
       "      <td>жіноча<\/td>\n",
       "      <td>Кіровоградська область<\/td>\n",
       "      <td>м.Кропивницький<\/td>\n",
       "      <td>Фортечний район міста<\/td>\n",
       "      <td>Випускник загальноосвітнього навчального закла...<\/td>\n",
       "      <td>місто<\/td>\n",
       "      <td>Біолого-хімічний<\/td>\n",
       "      <td>українська<\/td>\n",
       "      <td>...<\/td>\n",
       "      <td>українська<\/td>\n",
       "      <td>Зараховано<\/td>\n",
       "      <td>133.0<\/td>\n",
       "      <td>6.0<\/td>\n",
       "      <td>стандарт(академічний)<\/td>\n",
       "      <td>21.0<\/td>\n",
       "      <td>Кіровоградський медичний фаховий коледж ім. Є....<\/td>\n",
       "      <td>Кіровоградська область<\/td>\n",
       "      <td>м.Кропивницький. Подільський район міста<\/td>\n",
       "      <td>Подільський район міста<\/td>\n",
       "    <\/tr>\n",
       "    <tr>\n",
       "      <th>4<\/th>\n",
       "      <td>0b7b2e81-a906-412f-ad74-005025fd9d29<\/td>\n",
       "      <td>2003<\/td>\n",
       "      <td>жіноча<\/td>\n",
       "      <td>Івано-Франківська область<\/td>\n",
       "      <td>Долинський район<\/td>\n",
       "      <td>м.Долина<\/td>\n",
       "      <td>Випускник загальноосвітнього навчального закла...<\/td>\n",
       "      <td>місто<\/td>\n",
       "      <td>Технологічний<\/td>\n",
       "      <td>українська<\/td>\n",
       "      <td>...<\/td>\n",
       "      <td>українська<\/td>\n",
       "      <td>Зараховано<\/td>\n",
       "      <td>190.0<\/td>\n",
       "      <td>11.0<\/td>\n",
       "      <td>стандарт(академічний)<\/td>\n",
       "      <td>57.0<\/td>\n",
       "      <td>Долинський ліцей №6 «Європейський» Долинської ...<\/td>\n",
       "      <td>Івано-Франківська область<\/td>\n",
       "      <td>Долинський район<\/td>\n",
       "      <td>м.Долина<\/td>\n",
       "    <\/tr>\n",
       "    <tr>\n",
       "      <th>5<\/th>\n",
       "      <td>2674452e-7f71-496c-b8b1-001f0f395520<\/td>\n",
       "      <td>2004<\/td>\n",
       "      <td>жіноча<\/td>\n",
       "      <td>Київська область<\/td>\n",
       "      <td>Вишгородський район<\/td>\n",
       "      <td>с.Нижча Дубечня<\/td>\n",
       "      <td>Випускник загальноосвітнього навчального закла...<\/td>\n",
       "      <td>селище, село<\/td>\n",
       "      <td>Математичний<\/td>\n",
       "      <td>українська<\/td>\n",
       "      <td>...<\/td>\n",
       "      <td>українська<\/td>\n",
       "      <td>Зараховано<\/td>\n",
       "      <td>163.0<\/td>\n",
       "      <td>7.0<\/td>\n",
       "      <td>профільний<\/td>\n",
       "      <td>37.0<\/td>\n",
       "      <td>Вишгородська загальноосвітня школа І-ІІІ ступе...<\/td>\n",
       "      <td>Київська область<\/td>\n",
       "      <td>Вишгородський район<\/td>\n",
       "      <td>м.Вишгород<\/td>\n",
       "    <\/tr>\n",
       "    <tr>\n",
       "      <th>6<\/th>\n",
       "      <td>d4fececb-92ec-49b9-a9ce-00454ff7e950<\/td>\n",
       "      <td>2004<\/td>\n",
       "      <td>жіноча<\/td>\n",
       "      <td>Одеська область<\/td>\n",
       "      <td>м.Одеса<\/td>\n",
       "      <td>Малиновський район міста<\/td>\n",
       "      <td>Випускник загальноосвітнього навчального закла...<\/td>\n",
       "      <td>місто<\/td>\n",
       "      <td>Інформаційно-технологічний<\/td>\n",
       "      <td>українська<\/td>\n",
       "      <td>...<\/td>\n",
       "      <td>українська<\/td>\n",
       "      <td>Зараховано<\/td>\n",
       "      <td>160.0<\/td>\n",
       "      <td>9.0<\/td>\n",
       "      <td>стандарт(академічний)<\/td>\n",
       "      <td>35.0<\/td>\n",
       "      <td>Одеська загальноосвітня школа №65 I-III ступен...<\/td>\n",
       "      <td>Одеська область<\/td>\n",
       "      <td>м.Одеса. Київський район міста<\/td>\n",
       "      <td>Київський район міста<\/td>\n",
       "    <\/tr>\n",
       "    <tr>\n",
       "      <th>7<\/th>\n",
       "      <td>ebc81eea-4099-4372-a76e-002406a18340<\/td>\n",
       "      <td>2003<\/td>\n",
       "      <td>жіноча<\/td>\n",
       "      <td>Одеська область<\/td>\n",
       "      <td>м.Одеса<\/td>\n",
       "      <td>Малиновський район міста<\/td>\n",
       "      <td>Випускник загальноосвітнього навчального закла...<\/td>\n",
       "      <td>місто<\/td>\n",
       "      <td>Інформаційно-технологічний<\/td>\n",
       "      <td>українська<\/td>\n",
       "      <td>...<\/td>\n",
       "      <td>українська<\/td>\n",
       "      <td>Не подолав поріг<\/td>\n",
       "      <td>0.0<\/td>\n",
       "      <td>2.0<\/td>\n",
       "      <td>стандарт(академічний)<\/td>\n",
       "      <td>6.0<\/td>\n",
       "      <td>Одеська загальноосвітня школа №65 I-III ступен...<\/td>\n",
       "      <td>Одеська область<\/td>\n",
       "      <td>м.Одеса. Київський район міста<\/td>\n",
       "      <td>Київський район міста<\/td>\n",
       "    <\/tr>\n",
       "    <tr>\n",
       "      <th>8<\/th>\n",
       "      <td>0a1bc8b4-02e2-4f3b-86c6-00289642199f<\/td>\n",
       "      <td>1977<\/td>\n",
       "      <td>чоловіча<\/td>\n",
       "      <td>м.Київ<\/td>\n",
       "      <td>м.Київ<\/td>\n",
       "      <td>Подільський район міста<\/td>\n",
       "      <td>Випускник минулих років<\/td>\n",
       "      <td>місто<\/td>\n",
       "      <td>NaN<\/td>\n",
       "      <td>NaN<\/td>\n",
       "      <td>...<\/td>\n",
       "      <td>українська<\/td>\n",
       "      <td>Зараховано<\/td>\n",
       "      <td>109.0<\/td>\n",
       "      <td>NaN<\/td>\n",
       "      <td>NaN<\/td>\n",
       "      <td>12.0<\/td>\n",
       "      <td>Загальноосвітній навчальний заклад І-ІІІ ступе...<\/td>\n",
       "      <td>м.Київ<\/td>\n",
       "      <td>м.Київ. Подільський район міста<\/td>\n",
       "      <td>Подільський район міста<\/td>\n",
       "    <\/tr>\n",
       "    <tr>\n",
       "      <th>9<\/th>\n",
       "      <td>b0d84a2f-9bdf-4c49-8867-0042358e635f<\/td>\n",
       "      <td>1999<\/td>\n",
       "      <td>чоловіча<\/td>\n",
       "      <td>м.Київ<\/td>\n",
       "      <td>м.Київ<\/td>\n",
       "      <td>Шевченківський район міста<\/td>\n",
       "      <td>Випускник минулих років<\/td>\n",
       "      <td>місто<\/td>\n",
       "      <td>NaN<\/td>\n",
       "      <td>NaN<\/td>\n",
       "      <td>...<\/td>\n",
       "      <td>українська<\/td>\n",
       "      <td>Зараховано<\/td>\n",
       "      <td>181.0<\/td>\n",
       "      <td>NaN<\/td>\n",
       "      <td>NaN<\/td>\n",
       "      <td>50.0<\/td>\n",
       "      <td>Відокремлений структурний підрозділ Київський ...<\/td>\n",
       "      <td>м.Київ<\/td>\n",
       "      <td>м.Київ. Шевченківський район міста<\/td>\n",
       "      <td>Шевченківський район міста<\/td>\n",
       "    <\/tr>\n",
       "  <\/tbody>\n",
       "<\/table>\n",
       "<p>10 rows × 27 columns<\/p>\n",
       "<\/div>"
      ]
     },
     "metadata":{},
     "output_type":"display_data"
    },
    {
     "data":{
      "text\/plain":[
       "                                  OUTID  Birth SexTypeName  \\\n",
       "0  8a2abef7-625a-4253-8c14-000fe8a856e5   2003    чоловіча   \n",
       "1  3e975d01-9cc9-4072-bbcd-005b9da75096   2003    чоловіча   \n",
       "2  58c926c3-8718-4845-918b-00155b917934   2003    чоловіча   \n",
       "3  443f89c2-84e7-4a56-bea3-005c776e0121   2004      жіноча   \n",
       "4  0b7b2e81-a906-412f-ad74-005025fd9d29   2003      жіноча   \n",
       "5  2674452e-7f71-496c-b8b1-001f0f395520   2004      жіноча   \n",
       "6  d4fececb-92ec-49b9-a9ce-00454ff7e950   2004      жіноча   \n",
       "7  ebc81eea-4099-4372-a76e-002406a18340   2003      жіноча   \n",
       "8  0a1bc8b4-02e2-4f3b-86c6-00289642199f   1977    чоловіча   \n",
       "9  b0d84a2f-9bdf-4c49-8867-0042358e635f   1999    чоловіча   \n",
       "\n",
       "                     RegName             AREANAME                     TERNAME  \\\n",
       "0   Дніпропетровська область         м.Кам'янське    Дніпровський район міста   \n",
       "1     Кіровоградська область      м.Кропивницький       Фортечний район міста   \n",
       "2   Дніпропетровська область             м.Дніпро        Соборний район міста   \n",
       "3     Кіровоградська область      м.Кропивницький       Фортечний район міста   \n",
       "4  Івано-Франківська область     Долинський район                    м.Долина   \n",
       "5           Київська область  Вишгородський район             с.Нижча Дубечня   \n",
       "6            Одеська область              м.Одеса    Малиновський район міста   \n",
       "7            Одеська область              м.Одеса    Малиновський район міста   \n",
       "8                     м.Київ               м.Київ     Подільський район міста   \n",
       "9                     м.Київ               м.Київ  Шевченківський район міста   \n",
       "\n",
       "                                         RegTypeName   TerTypeName  \\\n",
       "0                       Студент закладу вищої освіти         місто   \n",
       "1  Випускник загальноосвітнього навчального закла...         місто   \n",
       "2                       Студент закладу вищої освіти         місто   \n",
       "3  Випускник загальноосвітнього навчального закла...         місто   \n",
       "4  Випускник загальноосвітнього навчального закла...         місто   \n",
       "5  Випускник загальноосвітнього навчального закла...  селище, село   \n",
       "6  Випускник загальноосвітнього навчального закла...         місто   \n",
       "7  Випускник загальноосвітнього навчального закла...         місто   \n",
       "8                            Випускник минулих років         місто   \n",
       "9                            Випускник минулих років         місто   \n",
       "\n",
       "             ClassProfileNAME ClassLangName  ...    MathLang  \\\n",
       "0         Молодший спеціаліст    українська  ...  українська   \n",
       "1               Технологічний    українська  ...  українська   \n",
       "2         Молодший спеціаліст    українська  ...  українська   \n",
       "3            Біолого-хімічний    українська  ...  українська   \n",
       "4               Технологічний    українська  ...  українська   \n",
       "5                Математичний    українська  ...  українська   \n",
       "6  Інформаційно-технологічний    українська  ...  українська   \n",
       "7  Інформаційно-технологічний    українська  ...  українська   \n",
       "8                         NaN           NaN  ...  українська   \n",
       "9                         NaN           NaN  ...  українська   \n",
       "\n",
       "     MathTestStatus MathBall100 MathBall12           MathDpaLevel MathBall  \\\n",
       "0        Зараховано       105.0        4.0  стандарт(академічний)     11.0   \n",
       "1  Не подолав поріг         0.0        3.0  стандарт(академічний)      9.0   \n",
       "2       Не з’явився         NaN        NaN  стандарт(академічний)      NaN   \n",
       "3        Зараховано       133.0        6.0  стандарт(академічний)     21.0   \n",
       "4        Зараховано       190.0       11.0  стандарт(академічний)     57.0   \n",
       "5        Зараховано       163.0        7.0             профільний     37.0   \n",
       "6        Зараховано       160.0        9.0  стандарт(академічний)     35.0   \n",
       "7  Не подолав поріг         0.0        2.0  стандарт(академічний)      6.0   \n",
       "8        Зараховано       109.0        NaN                    NaN     12.0   \n",
       "9        Зараховано       181.0        NaN                    NaN     50.0   \n",
       "\n",
       "                                          MathPTName  \\\n",
       "0  Комунальний заклад \"Середня загальноосвітня шк...   \n",
       "1  Кіровоградський медичний фаховий коледж ім. Є....   \n",
       "2  Комунальний заклад освіти \"Середня загальноосв...   \n",
       "3  Кіровоградський медичний фаховий коледж ім. Є....   \n",
       "4  Долинський ліцей №6 «Європейський» Долинської ...   \n",
       "5  Вишгородська загальноосвітня школа І-ІІІ ступе...   \n",
       "6  Одеська загальноосвітня школа №65 I-III ступен...   \n",
       "7  Одеська загальноосвітня школа №65 I-III ступен...   \n",
       "8  Загальноосвітній навчальний заклад І-ІІІ ступе...   \n",
       "9  Відокремлений структурний підрозділ Київський ...   \n",
       "\n",
       "               MathPTRegName                            MathPTAreaName  \\\n",
       "0   Дніпропетровська область    м.Кам'янське. Дніпровський район міста   \n",
       "1     Кіровоградська область  м.Кропивницький. Подільський район міста   \n",
       "2   Дніпропетровська область         м.Дніпро. Центральний район міста   \n",
       "3     Кіровоградська область  м.Кропивницький. Подільський район міста   \n",
       "4  Івано-Франківська область                          Долинський район   \n",
       "5           Київська область                       Вишгородський район   \n",
       "6            Одеська область            м.Одеса. Київський район міста   \n",
       "7            Одеська область            м.Одеса. Київський район міста   \n",
       "8                     м.Київ           м.Київ. Подільський район міста   \n",
       "9                     м.Київ        м.Київ. Шевченківський район міста   \n",
       "\n",
       "                MathPTTerName  \n",
       "0    Дніпровський район міста  \n",
       "1     Подільський район міста  \n",
       "2     Центральний район міста  \n",
       "3     Подільський район міста  \n",
       "4                    м.Долина  \n",
       "5                  м.Вишгород  \n",
       "6       Київський район міста  \n",
       "7       Київський район міста  \n",
       "8     Подільський район міста  \n",
       "9  Шевченківський район міста  \n",
       "\n",
       "[10 rows x 27 columns]"
      ]
     },
     "metadata":{},
     "output_type":"display_data"
    }
   ],
   "metadata":{
    "datalore":{
     "node_id":"oEwuSKX69WZff4OP2BOhzm",
     "type":"CODE",
     "hide_input_from_viewers":true,
     "hide_output_from_viewers":true
    }
   }
  },
  {
   "cell_type":"markdown",
   "source":[
    "Відобразіть унікальні значення колонки `MathTestStatus`."
   ],
   "attachments":{},
   "metadata":{
    "datalore":{
     "node_id":"NgybyZJmdWwQM28ec6WQNV",
     "type":"MD",
     "hide_input_from_viewers":true,
     "hide_output_from_viewers":true
    }
   }
  },
  {
   "cell_type":"code",
   "source":[
    "df['MathTestStatus'].unique()"
   ],
   "execution_count":36,
   "outputs":[
    {
     "data":{
      "text\/plain":[
       "array(['Зараховано', 'Не подолав поріг', 'Не з’явився', nan, 'Анульовано',\n",
       "       'Не обрано 100-200'], dtype=object)"
      ]
     },
     "metadata":{},
     "output_type":"display_data"
    }
   ],
   "metadata":{
    "datalore":{
     "node_id":"kpgf33JlNakZ0XBVbVqCXY",
     "type":"CODE",
     "hide_input_from_viewers":true,
     "hide_output_from_viewers":true
    }
   }
  },
  {
   "cell_type":"markdown",
   "source":[
    "Залиште в наборі даних лише значення 'Зараховано', 'Не подолав поріг', 'Не з’явився', 'Анульовано'."
   ],
   "attachments":{},
   "metadata":{
    "datalore":{
     "node_id":"nWKuEgjuJtNV0dm19iX2di",
     "type":"MD",
     "hide_input_from_viewers":true,
     "hide_output_from_viewers":true
    }
   }
  },
  {
   "cell_type":"code",
   "source":[
    "names_to_select = ['Зараховано', 'Не подолав поріг', 'Не з’явився', 'Анульовано']\n",
    "df = df[df['MathTestStatus'].isin(names_to_select)]\n",
    "df['MathTestStatus'].unique()"
   ],
   "execution_count":6,
   "outputs":[
    {
     "data":{
      "text\/plain":[
       "array(['Зараховано', 'Не подолав поріг', 'Не з’явився', 'Анульовано'],\n",
       "      dtype=object)"
      ]
     },
     "metadata":{},
     "output_type":"display_data"
    }
   ],
   "metadata":{
    "datalore":{
     "node_id":"pKfDjAXV8G6bcJqnyHIXDQ",
     "type":"CODE",
     "hide_input_from_viewers":true,
     "hide_output_from_viewers":true
    }
   }
  },
  {
   "cell_type":"markdown",
   "source":[
    "Скільки учасників складало тест з математики `MathLang`, і яка кількість учасників для кожної мови?"
   ],
   "attachments":{},
   "metadata":{
    "datalore":{
     "node_id":"T6Wa0DXLqaETGeLFtO3dRc",
     "type":"MD",
     "hide_input_from_viewers":true,
     "hide_output_from_viewers":true
    }
   }
  },
  {
   "cell_type":"code",
   "source":[
    "#df[\"MathLang\"].unique()\n",
    "print(df[df['MathTestStatus'] =='Зараховано']['MathLang'].count())\n",
    "print(df.groupby('MathLang')['MathLang'].count())"
   ],
   "execution_count":49,
   "outputs":[
    {
     "name":"stdout",
     "text":[
      "168369\n",
      "MathLang\n",
      "українська    291657\n",
      "Name: MathLang, dtype: int64\n"
     ],
     "output_type":"stream"
    }
   ],
   "metadata":{
    "datalore":{
     "node_id":"E2oZzMYtyYfA0grEfWJuPv",
     "type":"CODE",
     "hide_input_from_viewers":true,
     "hide_output_from_viewers":true
    }
   }
  },
  {
   "cell_type":"markdown",
   "source":[
    "Який максимальний бал по 200 бальній шкалі `MathBall100`? "
   ],
   "attachments":{},
   "metadata":{
    "datalore":{
     "node_id":"tbfDr4Iz7NPrvFjHwjCQSE",
     "type":"MD",
     "hide_input_from_viewers":true,
     "hide_output_from_viewers":true
    }
   }
  },
  {
   "cell_type":"code",
   "source":[
    "print(df['MathBall100'].max())"
   ],
   "execution_count":50,
   "outputs":[
    {
     "name":"stdout",
     "text":[
      "200.0\n"
     ],
     "output_type":"stream"
    }
   ],
   "metadata":{
    "datalore":{
     "node_id":"tasG6dfC0upTQBRvO7XXr0",
     "type":"CODE",
     "hide_input_from_viewers":true,
     "hide_output_from_viewers":true
    }
   }
  },
  {
   "cell_type":"markdown",
   "source":[
    "Створіть змінну df_zbarazh та збережіть туди дані по `AREANAME` = 'Збаразький район'."
   ],
   "attachments":{},
   "metadata":{
    "datalore":{
     "node_id":"vSwam2DrFXeCNhQpCv7DJF",
     "type":"MD",
     "hide_input_from_viewers":true,
     "hide_output_from_viewers":true
    }
   }
  },
  {
   "cell_type":"code",
   "source":[
    "df_zbarazh = df[df['AREANAME']=='Збаразький район']\n",
    "df_zbarazh"
   ],
   "execution_count":7,
   "outputs":[
    {
     "name":"stdout",
     "text":[
      "\n"
     ],
     "output_type":"stream"
    },
    {
     "name":"stderr",
     "text":[
      "\n"
     ],
     "output_type":"stream"
    },
    {
     "data":{
      "text\/html":[
       "<div>\n",
       "<style scoped>\n",
       "    .dataframe tbody tr th:only-of-type {\n",
       "        vertical-align: middle;\n",
       "    }\n",
       "\n",
       "    .dataframe tbody tr th {\n",
       "        vertical-align: top;\n",
       "    }\n",
       "\n",
       "    .dataframe thead th {\n",
       "        text-align: right;\n",
       "    }\n",
       "<\/style>\n",
       "<table border=\"1\" class=\"dataframe\">\n",
       "  <thead>\n",
       "    <tr style=\"text-align: right;\">\n",
       "      <th><\/th>\n",
       "      <th>OUTID<\/th>\n",
       "      <th>Birth<\/th>\n",
       "      <th>SexTypeName<\/th>\n",
       "      <th>RegName<\/th>\n",
       "      <th>AREANAME<\/th>\n",
       "      <th>TERNAME<\/th>\n",
       "      <th>RegTypeName<\/th>\n",
       "      <th>TerTypeName<\/th>\n",
       "      <th>ClassProfileNAME<\/th>\n",
       "      <th>ClassLangName<\/th>\n",
       "      <th>...<\/th>\n",
       "      <th>MathLang<\/th>\n",
       "      <th>MathTestStatus<\/th>\n",
       "      <th>MathBall100<\/th>\n",
       "      <th>MathBall12<\/th>\n",
       "      <th>MathDpaLevel<\/th>\n",
       "      <th>MathBall<\/th>\n",
       "      <th>MathPTName<\/th>\n",
       "      <th>MathPTRegName<\/th>\n",
       "      <th>MathPTAreaName<\/th>\n",
       "      <th>MathPTTerName<\/th>\n",
       "    <\/tr>\n",
       "  <\/thead>\n",
       "  <tbody>\n",
       "    <tr>\n",
       "      <th>866<\/th>\n",
       "      <td>db4e54a1-f078-4fd2-95ec-00d21aec3dee<\/td>\n",
       "      <td>2004<\/td>\n",
       "      <td>жіноча<\/td>\n",
       "      <td>Тернопільська область<\/td>\n",
       "      <td>Збаразький район<\/td>\n",
       "      <td>с.Чернихівці<\/td>\n",
       "      <td>Випускник загальноосвітнього навчального закла...<\/td>\n",
       "      <td>селище, село<\/td>\n",
       "      <td>Української філології<\/td>\n",
       "      <td>українська<\/td>\n",
       "      <td>...<\/td>\n",
       "      <td>українська<\/td>\n",
       "      <td>Зараховано<\/td>\n",
       "      <td>116.0<\/td>\n",
       "      <td>5.0<\/td>\n",
       "      <td>стандарт(академічний)<\/td>\n",
       "      <td>14.0<\/td>\n",
       "      <td>Збаразька загальноосвітня школа І-ІІІ ступенів...<\/td>\n",
       "      <td>Тернопільська область<\/td>\n",
       "      <td>Збаразький район<\/td>\n",
       "      <td>м.Збараж<\/td>\n",
       "    <\/tr>\n",
       "    <tr>\n",
       "      <th>1028<\/th>\n",
       "      <td>5c19c24b-f525-44f4-a205-004f642ef8ef<\/td>\n",
       "      <td>2003<\/td>\n",
       "      <td>жіноча<\/td>\n",
       "      <td>Тернопільська область<\/td>\n",
       "      <td>Збаразький район<\/td>\n",
       "      <td>м.Збараж<\/td>\n",
       "      <td>Учень (слухач) закладу професійної (професійно...<\/td>\n",
       "      <td>місто<\/td>\n",
       "      <td>Кваліфікований робітник<\/td>\n",
       "      <td>українська<\/td>\n",
       "      <td>...<\/td>\n",
       "      <td>українська<\/td>\n",
       "      <td>Не подолав поріг<\/td>\n",
       "      <td>0.0<\/td>\n",
       "      <td>3.0<\/td>\n",
       "      <td>стандарт(академічний)<\/td>\n",
       "      <td>9.0<\/td>\n",
       "      <td>Збаразька загальноосвітня школа І-ІІІ ступенів...<\/td>\n",
       "      <td>Тернопільська область<\/td>\n",
       "      <td>Збаразький район<\/td>\n",
       "      <td>м.Збараж<\/td>\n",
       "    <\/tr>\n",
       "    <tr>\n",
       "      <th>3027<\/th>\n",
       "      <td>058db6a5-63fa-4473-8b88-0222ddd9976a<\/td>\n",
       "      <td>2004<\/td>\n",
       "      <td>чоловіча<\/td>\n",
       "      <td>Тернопільська область<\/td>\n",
       "      <td>Збаразький район<\/td>\n",
       "      <td>с.Залужжя<\/td>\n",
       "      <td>Випускник загальноосвітнього навчального закла...<\/td>\n",
       "      <td>селище, село<\/td>\n",
       "      <td>Української філології<\/td>\n",
       "      <td>українська<\/td>\n",
       "      <td>...<\/td>\n",
       "      <td>українська<\/td>\n",
       "      <td>Зараховано<\/td>\n",
       "      <td>109.0<\/td>\n",
       "      <td>4.0<\/td>\n",
       "      <td>стандарт(академічний)<\/td>\n",
       "      <td>12.0<\/td>\n",
       "      <td>Збаразька загальноосвітня школа І-ІІІ ступенів...<\/td>\n",
       "      <td>Тернопільська область<\/td>\n",
       "      <td>Збаразький район<\/td>\n",
       "      <td>м.Збараж<\/td>\n",
       "    <\/tr>\n",
       "    <tr>\n",
       "      <th>5495<\/th>\n",
       "      <td>9202a89c-9884-45a3-b8a1-05541d562ea8<\/td>\n",
       "      <td>2003<\/td>\n",
       "      <td>жіноча<\/td>\n",
       "      <td>Тернопільська область<\/td>\n",
       "      <td>Збаразький район<\/td>\n",
       "      <td>смт Вишнівець<\/td>\n",
       "      <td>Випускник загальноосвітнього навчального закла...<\/td>\n",
       "      <td>селище міського типу<\/td>\n",
       "      <td>Універсальний<\/td>\n",
       "      <td>українська<\/td>\n",
       "      <td>...<\/td>\n",
       "      <td>українська<\/td>\n",
       "      <td>Не подолав поріг<\/td>\n",
       "      <td>0.0<\/td>\n",
       "      <td>3.0<\/td>\n",
       "      <td>стандарт(академічний)<\/td>\n",
       "      <td>7.0<\/td>\n",
       "      <td>Збаразька загальноосвітня школа І-ІІІ ступенів...<\/td>\n",
       "      <td>Тернопільська область<\/td>\n",
       "      <td>Збаразький район<\/td>\n",
       "      <td>м.Збараж<\/td>\n",
       "    <\/tr>\n",
       "    <tr>\n",
       "      <th>6315<\/th>\n",
       "      <td>5d9dcd99-140e-49a3-9940-0571f6457b72<\/td>\n",
       "      <td>2003<\/td>\n",
       "      <td>чоловіча<\/td>\n",
       "      <td>Тернопільська область<\/td>\n",
       "      <td>Збаразький район<\/td>\n",
       "      <td>м.Збараж<\/td>\n",
       "      <td>Учень (слухач) закладу професійної (професійно...<\/td>\n",
       "      <td>місто<\/td>\n",
       "      <td>Кваліфікований робітник<\/td>\n",
       "      <td>українська<\/td>\n",
       "      <td>...<\/td>\n",
       "      <td>українська<\/td>\n",
       "      <td>Не з’явився<\/td>\n",
       "      <td>NaN<\/td>\n",
       "      <td>NaN<\/td>\n",
       "      <td>стандарт(академічний)<\/td>\n",
       "      <td>NaN<\/td>\n",
       "      <td>Збаразька загальноосвітня школа І-ІІІ ступенів...<\/td>\n",
       "      <td>Тернопільська область<\/td>\n",
       "      <td>Збаразький район<\/td>\n",
       "      <td>м.Збараж<\/td>\n",
       "    <\/tr>\n",
       "    <tr>\n",
       "      <th>...<\/th>\n",
       "      <td>...<\/td>\n",
       "      <td>...<\/td>\n",
       "      <td>...<\/td>\n",
       "      <td>...<\/td>\n",
       "      <td>...<\/td>\n",
       "      <td>...<\/td>\n",
       "      <td>...<\/td>\n",
       "      <td>...<\/td>\n",
       "      <td>...<\/td>\n",
       "      <td>...<\/td>\n",
       "      <td>...<\/td>\n",
       "      <td>...<\/td>\n",
       "      <td>...<\/td>\n",
       "      <td>...<\/td>\n",
       "      <td>...<\/td>\n",
       "      <td>...<\/td>\n",
       "      <td>...<\/td>\n",
       "      <td>...<\/td>\n",
       "      <td>...<\/td>\n",
       "      <td>...<\/td>\n",
       "      <td>...<\/td>\n",
       "    <\/tr>\n",
       "    <tr>\n",
       "      <th>382835<\/th>\n",
       "      <td>d5a65ff6-1b32-4eee-b278-fd8fa7970624<\/td>\n",
       "      <td>2004<\/td>\n",
       "      <td>жіноча<\/td>\n",
       "      <td>Тернопільська область<\/td>\n",
       "      <td>Збаразький район<\/td>\n",
       "      <td>с.Гніздичне<\/td>\n",
       "      <td>Випускник загальноосвітнього навчального закла...<\/td>\n",
       "      <td>селище, село<\/td>\n",
       "      <td>Української філології<\/td>\n",
       "      <td>українська<\/td>\n",
       "      <td>...<\/td>\n",
       "      <td>українська<\/td>\n",
       "      <td>Зараховано<\/td>\n",
       "      <td>142.0<\/td>\n",
       "      <td>7.0<\/td>\n",
       "      <td>стандарт(академічний)<\/td>\n",
       "      <td>25.0<\/td>\n",
       "      <td>Збаразька загальноосвітня школа І-ІІІ ступенів...<\/td>\n",
       "      <td>Тернопільська область<\/td>\n",
       "      <td>Збаразький район<\/td>\n",
       "      <td>м.Збараж<\/td>\n",
       "    <\/tr>\n",
       "    <tr>\n",
       "      <th>385068<\/th>\n",
       "      <td>e2d04d69-1918-4559-b9a5-f802d5fa2ad7<\/td>\n",
       "      <td>2003<\/td>\n",
       "      <td>жіноча<\/td>\n",
       "      <td>Тернопільська область<\/td>\n",
       "      <td>Збаразький район<\/td>\n",
       "      <td>с.Чернихівці<\/td>\n",
       "      <td>Випускник загальноосвітнього навчального закла...<\/td>\n",
       "      <td>селище, село<\/td>\n",
       "      <td>Української філології<\/td>\n",
       "      <td>українська<\/td>\n",
       "      <td>...<\/td>\n",
       "      <td>українська<\/td>\n",
       "      <td>Зараховано<\/td>\n",
       "      <td>161.0<\/td>\n",
       "      <td>9.0<\/td>\n",
       "      <td>стандарт(академічний)<\/td>\n",
       "      <td>36.0<\/td>\n",
       "      <td>Збаразька загальноосвітня школа І-ІІІ ступенів...<\/td>\n",
       "      <td>Тернопільська область<\/td>\n",
       "      <td>Збаразький район<\/td>\n",
       "      <td>м.Збараж<\/td>\n",
       "    <\/tr>\n",
       "    <tr>\n",
       "      <th>385551<\/th>\n",
       "      <td>23abc6c7-8490-43b3-bb5a-e3448152617b<\/td>\n",
       "      <td>2003<\/td>\n",
       "      <td>жіноча<\/td>\n",
       "      <td>Тернопільська область<\/td>\n",
       "      <td>Збаразький район<\/td>\n",
       "      <td>м.Збараж<\/td>\n",
       "      <td>Учень (слухач) закладу професійної (професійно...<\/td>\n",
       "      <td>місто<\/td>\n",
       "      <td>Кваліфікований робітник<\/td>\n",
       "      <td>українська<\/td>\n",
       "      <td>...<\/td>\n",
       "      <td>українська<\/td>\n",
       "      <td>Не подолав поріг<\/td>\n",
       "      <td>0.0<\/td>\n",
       "      <td>2.0<\/td>\n",
       "      <td>стандарт(академічний)<\/td>\n",
       "      <td>4.0<\/td>\n",
       "      <td>Збаразька загальноосвітня школа І-ІІІ ступенів...<\/td>\n",
       "      <td>Тернопільська область<\/td>\n",
       "      <td>Збаразький район<\/td>\n",
       "      <td>м.Збараж<\/td>\n",
       "    <\/tr>\n",
       "    <tr>\n",
       "      <th>385714<\/th>\n",
       "      <td>80d9b981-f97a-4ec9-a748-e2101b427eb0<\/td>\n",
       "      <td>2001<\/td>\n",
       "      <td>чоловіча<\/td>\n",
       "      <td>Тернопільська область<\/td>\n",
       "      <td>Збаразький район<\/td>\n",
       "      <td>с.Чернихівці<\/td>\n",
       "      <td>Випускник минулих років<\/td>\n",
       "      <td>селище, село<\/td>\n",
       "      <td>NaN<\/td>\n",
       "      <td>NaN<\/td>\n",
       "      <td>...<\/td>\n",
       "      <td>українська<\/td>\n",
       "      <td>Зараховано<\/td>\n",
       "      <td>116.0<\/td>\n",
       "      <td>NaN<\/td>\n",
       "      <td>NaN<\/td>\n",
       "      <td>14.0<\/td>\n",
       "      <td>Збаразька загальноосвітня школа І-ІІІ ступенів...<\/td>\n",
       "      <td>Тернопільська область<\/td>\n",
       "      <td>Збаразький район<\/td>\n",
       "      <td>м.Збараж<\/td>\n",
       "    <\/tr>\n",
       "    <tr>\n",
       "      <th>388340<\/th>\n",
       "      <td>3daee40d-2ae2-45a8-a3e0-fc8414b3cb01<\/td>\n",
       "      <td>2005<\/td>\n",
       "      <td>жіноча<\/td>\n",
       "      <td>Тернопільська область<\/td>\n",
       "      <td>Збаразький район<\/td>\n",
       "      <td>м.Збараж<\/td>\n",
       "      <td>Випускник загальноосвітнього навчального закла...<\/td>\n",
       "      <td>місто<\/td>\n",
       "      <td>Технологічний<\/td>\n",
       "      <td>українська<\/td>\n",
       "      <td>...<\/td>\n",
       "      <td>українська<\/td>\n",
       "      <td>Зараховано<\/td>\n",
       "      <td>188.0<\/td>\n",
       "      <td>11.0<\/td>\n",
       "      <td>стандарт(академічний)<\/td>\n",
       "      <td>56.0<\/td>\n",
       "      <td>Збаразька загальноосвітня школа І-ІІІ ступенів...<\/td>\n",
       "      <td>Тернопільська область<\/td>\n",
       "      <td>Збаразький район<\/td>\n",
       "      <td>м.Збараж<\/td>\n",
       "    <\/tr>\n",
       "  <\/tbody>\n",
       "<\/table>\n",
       "<p>308 rows × 27 columns<\/p>\n",
       "<\/div>"
      ]
     },
     "metadata":{},
     "output_type":"display_data"
    },
    {
     "data":{
      "text\/plain":[
       "                                       OUTID  Birth SexTypeName  \\\n",
       "866     db4e54a1-f078-4fd2-95ec-00d21aec3dee   2004      жіноча   \n",
       "1028    5c19c24b-f525-44f4-a205-004f642ef8ef   2003      жіноча   \n",
       "3027    058db6a5-63fa-4473-8b88-0222ddd9976a   2004    чоловіча   \n",
       "5495    9202a89c-9884-45a3-b8a1-05541d562ea8   2003      жіноча   \n",
       "6315    5d9dcd99-140e-49a3-9940-0571f6457b72   2003    чоловіча   \n",
       "...                                      ...    ...         ...   \n",
       "382835  d5a65ff6-1b32-4eee-b278-fd8fa7970624   2004      жіноча   \n",
       "385068  e2d04d69-1918-4559-b9a5-f802d5fa2ad7   2003      жіноча   \n",
       "385551  23abc6c7-8490-43b3-bb5a-e3448152617b   2003      жіноча   \n",
       "385714  80d9b981-f97a-4ec9-a748-e2101b427eb0   2001    чоловіча   \n",
       "388340  3daee40d-2ae2-45a8-a3e0-fc8414b3cb01   2005      жіноча   \n",
       "\n",
       "                      RegName          AREANAME        TERNAME  \\\n",
       "866     Тернопільська область  Збаразький район   с.Чернихівці   \n",
       "1028    Тернопільська область  Збаразький район       м.Збараж   \n",
       "3027    Тернопільська область  Збаразький район      с.Залужжя   \n",
       "5495    Тернопільська область  Збаразький район  смт Вишнівець   \n",
       "6315    Тернопільська область  Збаразький район       м.Збараж   \n",
       "...                       ...               ...            ...   \n",
       "382835  Тернопільська область  Збаразький район    с.Гніздичне   \n",
       "385068  Тернопільська область  Збаразький район   с.Чернихівці   \n",
       "385551  Тернопільська область  Збаразький район       м.Збараж   \n",
       "385714  Тернопільська область  Збаразький район   с.Чернихівці   \n",
       "388340  Тернопільська область  Збаразький район       м.Збараж   \n",
       "\n",
       "                                              RegTypeName  \\\n",
       "866     Випускник загальноосвітнього навчального закла...   \n",
       "1028    Учень (слухач) закладу професійної (професійно...   \n",
       "3027    Випускник загальноосвітнього навчального закла...   \n",
       "5495    Випускник загальноосвітнього навчального закла...   \n",
       "6315    Учень (слухач) закладу професійної (професійно...   \n",
       "...                                                   ...   \n",
       "382835  Випускник загальноосвітнього навчального закла...   \n",
       "385068  Випускник загальноосвітнього навчального закла...   \n",
       "385551  Учень (слухач) закладу професійної (професійно...   \n",
       "385714                            Випускник минулих років   \n",
       "388340  Випускник загальноосвітнього навчального закла...   \n",
       "\n",
       "                 TerTypeName         ClassProfileNAME ClassLangName  ...  \\\n",
       "866             селище, село    Української філології    українська  ...   \n",
       "1028                   місто  Кваліфікований робітник    українська  ...   \n",
       "3027            селище, село    Української філології    українська  ...   \n",
       "5495    селище міського типу            Універсальний    українська  ...   \n",
       "6315                   місто  Кваліфікований робітник    українська  ...   \n",
       "...                      ...                      ...           ...  ...   \n",
       "382835          селище, село    Української філології    українська  ...   \n",
       "385068          селище, село    Української філології    українська  ...   \n",
       "385551                 місто  Кваліфікований робітник    українська  ...   \n",
       "385714          селище, село                      NaN           NaN  ...   \n",
       "388340                 місто            Технологічний    українська  ...   \n",
       "\n",
       "          MathLang    MathTestStatus MathBall100 MathBall12  \\\n",
       "866     українська        Зараховано       116.0        5.0   \n",
       "1028    українська  Не подолав поріг         0.0        3.0   \n",
       "3027    українська        Зараховано       109.0        4.0   \n",
       "5495    українська  Не подолав поріг         0.0        3.0   \n",
       "6315    українська       Не з’явився         NaN        NaN   \n",
       "...            ...               ...         ...        ...   \n",
       "382835  українська        Зараховано       142.0        7.0   \n",
       "385068  українська        Зараховано       161.0        9.0   \n",
       "385551  українська  Не подолав поріг         0.0        2.0   \n",
       "385714  українська        Зараховано       116.0        NaN   \n",
       "388340  українська        Зараховано       188.0       11.0   \n",
       "\n",
       "                 MathDpaLevel MathBall  \\\n",
       "866     стандарт(академічний)     14.0   \n",
       "1028    стандарт(академічний)      9.0   \n",
       "3027    стандарт(академічний)     12.0   \n",
       "5495    стандарт(академічний)      7.0   \n",
       "6315    стандарт(академічний)      NaN   \n",
       "...                       ...      ...   \n",
       "382835  стандарт(академічний)     25.0   \n",
       "385068  стандарт(академічний)     36.0   \n",
       "385551  стандарт(академічний)      4.0   \n",
       "385714                    NaN     14.0   \n",
       "388340  стандарт(академічний)     56.0   \n",
       "\n",
       "                                               MathPTName  \\\n",
       "866     Збаразька загальноосвітня школа І-ІІІ ступенів...   \n",
       "1028    Збаразька загальноосвітня школа І-ІІІ ступенів...   \n",
       "3027    Збаразька загальноосвітня школа І-ІІІ ступенів...   \n",
       "5495    Збаразька загальноосвітня школа І-ІІІ ступенів...   \n",
       "6315    Збаразька загальноосвітня школа І-ІІІ ступенів...   \n",
       "...                                                   ...   \n",
       "382835  Збаразька загальноосвітня школа І-ІІІ ступенів...   \n",
       "385068  Збаразька загальноосвітня школа І-ІІІ ступенів...   \n",
       "385551  Збаразька загальноосвітня школа І-ІІІ ступенів...   \n",
       "385714  Збаразька загальноосвітня школа І-ІІІ ступенів...   \n",
       "388340  Збаразька загальноосвітня школа І-ІІІ ступенів...   \n",
       "\n",
       "                MathPTRegName    MathPTAreaName  MathPTTerName  \n",
       "866     Тернопільська область  Збаразький район       м.Збараж  \n",
       "1028    Тернопільська область  Збаразький район       м.Збараж  \n",
       "3027    Тернопільська область  Збаразький район       м.Збараж  \n",
       "5495    Тернопільська область  Збаразький район       м.Збараж  \n",
       "6315    Тернопільська область  Збаразький район       м.Збараж  \n",
       "...                       ...               ...            ...  \n",
       "382835  Тернопільська область  Збаразький район       м.Збараж  \n",
       "385068  Тернопільська область  Збаразький район       м.Збараж  \n",
       "385551  Тернопільська область  Збаразький район       м.Збараж  \n",
       "385714  Тернопільська область  Збаразький район       м.Збараж  \n",
       "388340  Тернопільська область  Збаразький район       м.Збараж  \n",
       "\n",
       "[308 rows x 27 columns]"
      ]
     },
     "metadata":{},
     "output_type":"display_data"
    }
   ],
   "metadata":{
    "datalore":{
     "node_id":"1IzAhOPfjrNu2znpbY69Rw",
     "type":"CODE",
     "hide_input_from_viewers":true,
     "hide_output_from_viewers":true
    }
   }
  },
  {
   "cell_type":"markdown",
   "source":[
    "Виведіть тих абітерієнтів для яких `MathBall100` не `NUll`, а `MathBall12` - `NULL`. Чому таке можливо? Дослідіть!"
   ],
   "attachments":{},
   "metadata":{
    "datalore":{
     "node_id":"pnKrIPrVu6kkkFw44XgAl1",
     "type":"MD",
     "hide_input_from_viewers":true,
     "hide_output_from_viewers":true
    }
   }
  },
  {
   "cell_type":"code",
   "source":[
    "print(df[(df['MathBall100'].notnull())&(df['MathBall12'].isnull())][['Birth','SexTypeName','AREANAME','ClassProfileNAME','ClassLangName','MathTestStatus','MathBall100','MathBall12','MathDpaLevel','MathBall']].head(1000))"
   ],
   "execution_count":8,
   "outputs":[
    {
     "name":"stdout",
     "text":[
      "       Birth SexTypeName              AREANAME ClassProfileNAME ClassLangName  \\\n",
      "8       1977    чоловіча                м.Київ              NaN           NaN   \n",
      "9       1999    чоловіча                м.Київ              NaN           NaN   \n",
      "42      1999      жіноча          м.Кривий Ріг              NaN           NaN   \n",
      "44      2002    чоловіча               м.Одеса              NaN           NaN   \n",
      "50      2001    чоловіча        Сумський район              NaN           NaN   \n",
      "...      ...         ...                   ...              ...           ...   \n",
      "17173   2002      жіноча  Чернігівська область              NaN           NaN   \n",
      "17174   2002    чоловіча                м.Київ              NaN           NaN   \n",
      "17178   1999    чоловіча  Здолбунівський район              NaN           NaN   \n",
      "17201   1986    чоловіча          м.Кривий Ріг              NaN           NaN   \n",
      "17249   2002    чоловіча    Дрогобицький район              NaN           NaN   \n",
      "\n",
      "         MathTestStatus  MathBall100  MathBall12 MathDpaLevel  MathBall  \n",
      "8            Зараховано        109.0         NaN          NaN      12.0  \n",
      "9            Зараховано        181.0         NaN          NaN      50.0  \n",
      "42           Зараховано        109.0         NaN          NaN      12.0  \n",
      "44           Зараховано        127.0         NaN          NaN      18.0  \n",
      "50     Не подолав поріг          0.0         NaN          NaN       7.0  \n",
      "...                 ...          ...         ...          ...       ...  \n",
      "17173        Зараховано        105.0         NaN          NaN      11.0  \n",
      "17174  Не подолав поріг          0.0         NaN          NaN       3.0  \n",
      "17178  Не подолав поріг          0.0         NaN          NaN       9.0  \n",
      "17201  Не подолав поріг          0.0         NaN          NaN       8.0  \n",
      "17249        Зараховано        100.0         NaN          NaN      10.0  \n",
      "\n",
      "[1000 rows x 10 columns]\n"
     ],
     "output_type":"stream"
    }
   ],
   "metadata":{
    "datalore":{
     "node_id":"IdRaqsU1EPXaoBTETplMk5",
     "type":"CODE",
     "hide_input_from_viewers":true,
     "hide_output_from_viewers":true
    }
   }
  },
  {
   "cell_type":"markdown",
   "source":[
    "Підрахуйте к-сть абітурієнтів по кожній статі."
   ],
   "attachments":{},
   "metadata":{
    "datalore":{
     "node_id":"yVJ1Zs1olrzLsdn6GJ2fs7",
     "type":"MD",
     "hide_input_from_viewers":true,
     "hide_output_from_viewers":true
    }
   }
  },
  {
   "cell_type":"code",
   "source":[
    "print(df.groupby('SexTypeName')['SexTypeName'].count())"
   ],
   "execution_count":22,
   "outputs":[
    {
     "name":"stdout",
     "text":[
      "SexTypeName\n",
      "жіноча      142272\n",
      "чоловіча    149385\n",
      "Name: SexTypeName, dtype: int64\n"
     ],
     "output_type":"stream"
    }
   ],
   "metadata":{
    "datalore":{
     "node_id":"v94HLnlcrHMYbgDSUVQ1LL",
     "type":"CODE",
     "hide_input_from_viewers":true,
     "hide_output_from_viewers":true
    }
   }
  },
  {
   "cell_type":"markdown",
   "source":[
    "Знайдіть відношення к-сть чоловіків до всієї к-сть абітурієнтів."
   ],
   "attachments":{},
   "metadata":{
    "datalore":{
     "node_id":"Dtp5baSbCITtZLrsXXbpUA",
     "type":"MD",
     "hide_input_from_viewers":true,
     "hide_output_from_viewers":true
    }
   }
  },
  {
   "cell_type":"code",
   "source":[
    "\n",
    "cnt_man = df[df['SexTypeName'] =='чоловіча']['SexTypeName'].count()\n",
    "cnt_all = df['SexTypeName'].count()\n",
    "print(\"Відношення чоловіків до всієї к-сті абітурієнтів: \", round((cnt_man\/cnt_all) * 100,2))"
   ],
   "execution_count":25,
   "outputs":[
    {
     "name":"stdout",
     "text":[
      "Відношення к-сть чоловіків до всієї к-сть абітурієнтів:  51.22\n"
     ],
     "output_type":"stream"
    }
   ],
   "metadata":{
    "datalore":{
     "node_id":"Er446HKbDByGY7Otrt0Vqr",
     "type":"CODE",
     "hide_input_from_viewers":true,
     "hide_output_from_viewers":true
    }
   }
  },
  {
   "cell_type":"markdown",
   "source":[
    "Знайдіть максимальний бал в Збаразькому районі."
   ],
   "attachments":{},
   "metadata":{
    "datalore":{
     "node_id":"IORAA4GBAPomUpLJ3gSWCz",
     "type":"MD",
     "hide_input_from_viewers":true,
     "hide_output_from_viewers":true
    }
   }
  },
  {
   "cell_type":"code",
   "source":[
    "df_zbarazh['MathBall'].max()"
   ],
   "execution_count":28,
   "outputs":[
    {
     "data":{
      "text\/plain":[
       "65.0"
      ]
     },
     "metadata":{},
     "output_type":"display_data"
    }
   ],
   "metadata":{
    "datalore":{
     "node_id":"z1QCrNxDJ9v34iZSS5nL7t",
     "type":"CODE",
     "hide_input_from_viewers":true,
     "hide_output_from_viewers":true
    }
   }
  },
  {
   "cell_type":"markdown",
   "source":[
    "Виведіть OUTID абітурієнтів, що набрали максимальний бал в даному районі."
   ],
   "attachments":{},
   "metadata":{
    "datalore":{
     "node_id":"V6SWVGj5mg8nX0aSZi1DaI",
     "type":"MD",
     "hide_input_from_viewers":true,
     "hide_output_from_viewers":true
    }
   }
  },
  {
   "cell_type":"code",
   "source":[
    "df_zbarazh[df_zbarazh['MathBall'] == df_zbarazh['MathBall'].max()]['OUTID']"
   ],
   "execution_count":9,
   "outputs":[
    {
     "data":{
      "text\/plain":[
       "210190    ee4bb5d1-497b-49d0-9b98-8dc686dec6a4\n",
       "Name: OUTID, dtype: object"
      ]
     },
     "metadata":{},
     "output_type":"display_data"
    }
   ],
   "metadata":{
    "datalore":{
     "node_id":"lMdKZrCxu5NSTxwes4wyCe",
     "type":"CODE",
     "hide_input_from_viewers":true,
     "hide_output_from_viewers":true
    }
   }
  },
  {
   "cell_type":"markdown",
   "source":[
    "Виведіть середню оцінку для абітурієнтів із міста `TerTypeName` = 'місто' та статус тесту `MathTestStatus` =  'Зараховано'."
   ],
   "attachments":{},
   "metadata":{
    "datalore":{
     "node_id":"JIYIsbffwVKDes3AJLCsgz",
     "type":"MD",
     "hide_input_from_viewers":true,
     "hide_output_from_viewers":true
    }
   }
  },
  {
   "cell_type":"code",
   "source":[
    "print(df[(df['TerTypeName'] =='місто')&(df['MathTestStatus'] =='Зараховано')]['MathBall'].mean())"
   ],
   "execution_count":9,
   "outputs":[
    {
     "name":"stdout",
     "text":[
      "26.36553991825302\n"
     ],
     "output_type":"stream"
    }
   ],
   "metadata":{
    "datalore":{
     "node_id":"BBQd9wyyXKJZtVIgs6LaSx",
     "type":"CODE",
     "hide_input_from_viewers":true,
     "hide_output_from_viewers":true
    }
   }
  },
  {
   "cell_type":"markdown",
   "source":[
    "Виведіть середню оцінку для абітурієнтів не із міста TerTypeName != 'місто' та статус тесту MathTestStatus = 'Зараховано'."
   ],
   "attachments":{},
   "metadata":{
    "datalore":{
     "node_id":"aNFJYbVDD5MeEKF0Dz8grO",
     "type":"MD",
     "hide_input_from_viewers":true,
     "hide_output_from_viewers":true
    }
   }
  },
  {
   "cell_type":"code",
   "source":[
    "print(df[(df['TerTypeName'] !='місто')&(df['MathTestStatus'] =='Зараховано')]['MathBall'].mean())"
   ],
   "execution_count":10,
   "outputs":[
    {
     "name":"stdout",
     "text":[
      "22.122526224721533\n"
     ],
     "output_type":"stream"
    }
   ],
   "metadata":{
    "datalore":{
     "node_id":"dHlQvOcxnz9iCIU2ne5S5u",
     "type":"CODE",
     "hide_input_from_viewers":true,
     "hide_output_from_viewers":true
    }
   }
  },
  {
   "cell_type":"markdown",
   "source":[
    "Подумайте, чи має вплив `TerTypeName` на результат тестування. "
   ],
   "attachments":{},
   "metadata":{
    "datalore":{
     "node_id":"I97qdSmQFX7kjlRiq4LVuo",
     "type":"MD",
     "hide_input_from_viewers":true,
     "hide_output_from_viewers":true
    }
   }
  },
  {
   "cell_type":"markdown",
   "source":[
    "Виведіть середню оцінку для абітурієнтів із технічних ліцеїв (`ClassProfileNAME` = 'Технологічний) та статус тесту `MathTestStatus` = 'Зараховано'."
   ],
   "attachments":{},
   "metadata":{
    "datalore":{
     "node_id":"nUSRBXK0u0MbJ6iCeoO11H",
     "type":"MD",
     "hide_input_from_viewers":true,
     "hide_output_from_viewers":true
    }
   }
  },
  {
   "cell_type":"code",
   "source":[
    "print(df[(df['ClassProfileNAME'] =='Технологічний')&(df['MathTestStatus'] =='Зараховано')]['MathBall'].mean())"
   ],
   "execution_count":12,
   "outputs":[
    {
     "name":"stdout",
     "text":[
      "21.833886124930903\n"
     ],
     "output_type":"stream"
    }
   ],
   "metadata":{
    "datalore":{
     "node_id":"8diqGNtFsJbPmJyXGHoijs",
     "type":"CODE",
     "hide_input_from_viewers":true,
     "hide_output_from_viewers":true
    }
   }
  },
  {
   "cell_type":"markdown",
   "source":[
    "Виведіть середню оцінку для абітурієнтів із НЕтехнічних ліцеїв (`ClassProfileNAME` != 'Технологічний) та статус тесту `MathTestStatus` = 'Зараховано'."
   ],
   "attachments":{},
   "metadata":{
    "datalore":{
     "node_id":"LnUajJpNU6dvfBQYQi7pTF",
     "type":"MD",
     "hide_input_from_viewers":true,
     "hide_output_from_viewers":true
    }
   }
  },
  {
   "cell_type":"code",
   "source":[
    "print(df[(df['ClassProfileNAME'] !='Технологічний')&(df['MathTestStatus'] =='Зараховано')]['MathBall'].mean())"
   ],
   "execution_count":13,
   "outputs":[
    {
     "name":"stdout",
     "text":[
      "25.512464264253328\n"
     ],
     "output_type":"stream"
    }
   ],
   "metadata":{
    "datalore":{
     "node_id":"eAajDkZryohbywmJLPdUQS",
     "type":"CODE",
     "hide_input_from_viewers":true,
     "hide_output_from_viewers":true
    }
   }
  },
  {
   "cell_type":"markdown",
   "source":[
    "Зробіть висновки :)"
   ],
   "attachments":{},
   "metadata":{
    "datalore":{
     "node_id":"jqqpg9SZutJK4FFeczyExO",
     "type":"MD",
     "hide_input_from_viewers":true,
     "hide_output_from_viewers":true
    }
   }
  },
  {
   "cell_type":"code",
   "source":[
    "#абітурієнти з міст в більшості мають кращі математичні навички, випереджаючи навіть абітурієнтів технічних ліцеїв"
   ],
   "execution_count":null,
   "outputs":[],
   "metadata":{
    "datalore":{
     "node_id":"waUIPMljta4lwHmWJHZ1p0",
     "type":"CODE",
     "hide_input_from_viewers":true,
     "hide_output_from_viewers":true
    }
   }
  },
  {
   "cell_type":"code",
   "source":[],
   "execution_count":null,
   "outputs":[],
   "metadata":{
    "datalore":{
     "node_id":"YcLD5tI0wKIwNZicKYpVts",
     "type":"CODE",
     "hide_input_from_viewers":true,
     "hide_output_from_viewers":true
    }
   }
  },
  {
   "cell_type":"markdown",
   "source":[
    "Видаліть всі рядки, де MathBall12 є Null."
   ],
   "attachments":{},
   "metadata":{
    "datalore":{
     "node_id":"ynikTYSW3wlYvhs70IfUi8",
     "type":"MD",
     "hide_input_from_viewers":true,
     "hide_output_from_viewers":true
    }
   }
  },
  {
   "cell_type":"code",
   "source":[
    "#df[df['MathBall12'].isnull()]\n",
    "df.dropna(subset=['MathBall12'], inplace=True)"
   ],
   "execution_count":12,
   "outputs":[
    {
     "name":"stdout",
     "text":[
      "\n"
     ],
     "output_type":"stream"
    },
    {
     "name":"stderr",
     "text":[
      "\n"
     ],
     "output_type":"stream"
    },
    {
     "data":{
      "text\/html":[
       "<div>\n",
       "<style scoped>\n",
       "    .dataframe tbody tr th:only-of-type {\n",
       "        vertical-align: middle;\n",
       "    }\n",
       "\n",
       "    .dataframe tbody tr th {\n",
       "        vertical-align: top;\n",
       "    }\n",
       "\n",
       "    .dataframe thead th {\n",
       "        text-align: right;\n",
       "    }\n",
       "<\/style>\n",
       "<table border=\"1\" class=\"dataframe\">\n",
       "  <thead>\n",
       "    <tr style=\"text-align: right;\">\n",
       "      <th><\/th>\n",
       "      <th>OUTID<\/th>\n",
       "      <th>Birth<\/th>\n",
       "      <th>SexTypeName<\/th>\n",
       "      <th>RegName<\/th>\n",
       "      <th>AREANAME<\/th>\n",
       "      <th>TERNAME<\/th>\n",
       "      <th>RegTypeName<\/th>\n",
       "      <th>TerTypeName<\/th>\n",
       "      <th>ClassProfileNAME<\/th>\n",
       "      <th>ClassLangName<\/th>\n",
       "      <th>...<\/th>\n",
       "      <th>MathLang<\/th>\n",
       "      <th>MathTestStatus<\/th>\n",
       "      <th>MathBall100<\/th>\n",
       "      <th>MathBall12<\/th>\n",
       "      <th>MathDpaLevel<\/th>\n",
       "      <th>MathBall<\/th>\n",
       "      <th>MathPTName<\/th>\n",
       "      <th>MathPTRegName<\/th>\n",
       "      <th>MathPTAreaName<\/th>\n",
       "      <th>MathPTTerName<\/th>\n",
       "    <\/tr>\n",
       "  <\/thead>\n",
       "  <tbody>\n",
       "  <\/tbody>\n",
       "<\/table>\n",
       "<p>0 rows × 27 columns<\/p>\n",
       "<\/div>"
      ]
     },
     "metadata":{},
     "output_type":"display_data"
    },
    {
     "data":{
      "text\/plain":[
       "Empty DataFrame\n",
       "Columns: [OUTID, Birth, SexTypeName, RegName, AREANAME, TERNAME, RegTypeName, TerTypeName, ClassProfileNAME, ClassLangName, EONAME, EOTypeName, EORegName, EOAreaName, EOTerName, EOParent, MathTest, MathLang, MathTestStatus, MathBall100, MathBall12, MathDpaLevel, MathBall, MathPTName, MathPTRegName, MathPTAreaName, MathPTTerName]\n",
       "Index: []\n",
       "\n",
       "[0 rows x 27 columns]"
      ]
     },
     "metadata":{},
     "output_type":"display_data"
    }
   ],
   "metadata":{
    "datalore":{
     "node_id":"DwIaJ6kLeissONOIn9W6XN",
     "type":"CODE",
     "hide_input_from_viewers":true,
     "hide_output_from_viewers":true
    }
   }
  },
  {
   "cell_type":"markdown",
   "source":[
    "\n",
    "Перевірте, чи залишилися ще якісь порожні значення в `df_zbarazh`."
   ],
   "attachments":{},
   "metadata":{
    "datalore":{
     "node_id":"vcETAMqwW19Hn40XjmqYsS",
     "type":"MD",
     "hide_input_from_viewers":true,
     "hide_output_from_viewers":true
    }
   }
  },
  {
   "cell_type":"code",
   "source":[
    "df_zbarazh.isnull().values.any()\n",
    "#df_zbarazh.isna()"
   ],
   "execution_count":13,
   "outputs":[
    {
     "data":{
      "text\/plain":[
       "True"
      ]
     },
     "metadata":{},
     "output_type":"display_data"
    }
   ],
   "metadata":{
    "datalore":{
     "node_id":"Mu0BKUVS8nNanLwly3ZZxz",
     "type":"CODE",
     "hide_input_from_viewers":true,
     "hide_output_from_viewers":true
    }
   }
  },
  {
   "cell_type":"markdown",
   "source":[
    "Зповніть всі значення `NULL` в колонці `EOParent` на значення \"невідомо\"."
   ],
   "attachments":{},
   "metadata":{
    "datalore":{
     "node_id":"p2mOqMvDRGUK3JHYQNPvVE",
     "type":"MD",
     "hide_input_from_viewers":true,
     "hide_output_from_viewers":true
    }
   }
  },
  {
   "cell_type":"markdown",
   "source":[],
   "attachments":{},
   "metadata":{
    "datalore":{
     "node_id":"jBBfczl7bF82Q9ECj9slao",
     "type":"MD",
     "hide_input_from_viewers":false,
     "hide_output_from_viewers":false,
     "report_properties":{
      "rowId":"ttMlMGMuevZMKTFgsndwmX"
     }
    }
   }
  },
  {
   "cell_type":"code",
   "source":[
    "df_zbarazh['EOParent'].fillna('невідомо', axis = 0, inplace=True)"
   ],
   "execution_count":14,
   "outputs":[
    {
     "name":"stderr",
     "text":[
      "C:\\Users\\AAlexandrI\\AppData\\Local\\Temp\\ipykernel_7608\\4088654383.py:1: SettingWithCopyWarning: \n",
      "A value is trying to be set on a copy of a slice from a DataFrame\n",
      "\n",
      "See the caveats in the documentation: https:\/\/pandas.pydata.org\/pandas-docs\/stable\/user_guide\/indexing.html#returning-a-view-versus-a-copy\n",
      "  df_zbarazh['EOParent'].fillna('невідомо', axis = 0, inplace=True)\n"
     ],
     "output_type":"stream"
    }
   ],
   "metadata":{
    "datalore":{
     "node_id":"SGwoZDJZl6GNhGeox9iAJe",
     "type":"CODE",
     "hide_input_from_viewers":true,
     "hide_output_from_viewers":true
    }
   }
  },
  {
   "cell_type":"code",
   "source":[
    "#df_zbarazh[df_zbarazh['EOParent'].isna()]\n",
    "df_zbarazh[df_zbarazh['EOParent'].isnull()]\n",
    "#df_zbarazh.columns"
   ],
   "execution_count":15,
   "outputs":[
    {
     "name":"stdout",
     "text":[
      "\n"
     ],
     "output_type":"stream"
    },
    {
     "name":"stderr",
     "text":[
      "\n"
     ],
     "output_type":"stream"
    },
    {
     "data":{
      "text\/html":[
       "<div>\n",
       "<style scoped>\n",
       "    .dataframe tbody tr th:only-of-type {\n",
       "        vertical-align: middle;\n",
       "    }\n",
       "\n",
       "    .dataframe tbody tr th {\n",
       "        vertical-align: top;\n",
       "    }\n",
       "\n",
       "    .dataframe thead th {\n",
       "        text-align: right;\n",
       "    }\n",
       "<\/style>\n",
       "<table border=\"1\" class=\"dataframe\">\n",
       "  <thead>\n",
       "    <tr style=\"text-align: right;\">\n",
       "      <th><\/th>\n",
       "      <th>OUTID<\/th>\n",
       "      <th>Birth<\/th>\n",
       "      <th>SexTypeName<\/th>\n",
       "      <th>RegName<\/th>\n",
       "      <th>AREANAME<\/th>\n",
       "      <th>TERNAME<\/th>\n",
       "      <th>RegTypeName<\/th>\n",
       "      <th>TerTypeName<\/th>\n",
       "      <th>ClassProfileNAME<\/th>\n",
       "      <th>ClassLangName<\/th>\n",
       "      <th>...<\/th>\n",
       "      <th>MathLang<\/th>\n",
       "      <th>MathTestStatus<\/th>\n",
       "      <th>MathBall100<\/th>\n",
       "      <th>MathBall12<\/th>\n",
       "      <th>MathDpaLevel<\/th>\n",
       "      <th>MathBall<\/th>\n",
       "      <th>MathPTName<\/th>\n",
       "      <th>MathPTRegName<\/th>\n",
       "      <th>MathPTAreaName<\/th>\n",
       "      <th>MathPTTerName<\/th>\n",
       "    <\/tr>\n",
       "  <\/thead>\n",
       "  <tbody>\n",
       "  <\/tbody>\n",
       "<\/table>\n",
       "<p>0 rows × 27 columns<\/p>\n",
       "<\/div>"
      ]
     },
     "metadata":{},
     "output_type":"display_data"
    },
    {
     "data":{
      "text\/plain":[
       "Empty DataFrame\n",
       "Columns: [OUTID, Birth, SexTypeName, RegName, AREANAME, TERNAME, RegTypeName, TerTypeName, ClassProfileNAME, ClassLangName, EONAME, EOTypeName, EORegName, EOAreaName, EOTerName, EOParent, MathTest, MathLang, MathTestStatus, MathBall100, MathBall12, MathDpaLevel, MathBall, MathPTName, MathPTRegName, MathPTAreaName, MathPTTerName]\n",
       "Index: []\n",
       "\n",
       "[0 rows x 27 columns]"
      ]
     },
     "metadata":{},
     "output_type":"display_data"
    }
   ],
   "metadata":{
    "datalore":{
     "node_id":"HCVd19LxrwAtHcj3Fe7iHd",
     "type":"CODE",
     "hide_input_from_viewers":true,
     "hide_output_from_viewers":true
    }
   }
  },
  {
   "cell_type":"markdown",
   "source":[
    "Виведіть середнє значення `MathBall100` по кожному році народження."
   ],
   "attachments":{},
   "metadata":{
    "datalore":{
     "node_id":"9erXCyI0wEqfLbV2zrEZvb",
     "type":"MD",
     "hide_input_from_viewers":true,
     "hide_output_from_viewers":true
    }
   }
  },
  {
   "cell_type":"code",
   "source":[
    "print(df.groupby('Birth')['MathBall100'].mean())"
   ],
   "execution_count":16,
   "outputs":[
    {
     "name":"stdout",
     "text":[
      "Birth\n",
      "1969      0.000000\n",
      "1970      0.000000\n",
      "1973      0.000000\n",
      "1975    113.000000\n",
      "1976      0.000000\n",
      "1977      0.000000\n",
      "1978     54.833333\n",
      "1979     40.900000\n",
      "1980     33.285714\n",
      "1981      0.000000\n",
      "1982     11.666667\n",
      "1983     31.000000\n",
      "1984     54.777778\n",
      "1985     23.785714\n",
      "1986     30.117647\n",
      "1987     34.888889\n",
      "1988     40.750000\n",
      "1989      0.000000\n",
      "1990     32.454545\n",
      "1991     25.615385\n",
      "1992     59.636364\n",
      "1993     49.000000\n",
      "1994      0.000000\n",
      "1995     66.909091\n",
      "1996     75.666667\n",
      "1997     43.888889\n",
      "1998     64.074074\n",
      "1999     31.047619\n",
      "2000     39.807339\n",
      "2001     33.947368\n",
      "2002     44.625561\n",
      "2003     92.609016\n",
      "2004    101.179356\n",
      "2005    101.530625\n",
      "2006    126.200000\n",
      "2007      0.000000\n",
      "Name: MathBall100, dtype: float64\n"
     ],
     "output_type":"stream"
    }
   ],
   "metadata":{
    "datalore":{
     "node_id":"Hb7QBS3D7iEjZ74VtdFqU3",
     "type":"CODE",
     "hide_input_from_viewers":true,
     "hide_output_from_viewers":true
    }
   }
  },
  {
   "cell_type":"markdown",
   "source":[
    "Виведіть середнє значення `MathBall100` та кількість студнетів по кожному році народження."
   ],
   "attachments":{},
   "metadata":{
    "datalore":{
     "node_id":"uk6PTGzhHqSo0kaGjGXHRD",
     "type":"MD",
     "hide_input_from_viewers":true,
     "hide_output_from_viewers":true
    }
   }
  },
  {
   "cell_type":"code",
   "source":[
    "print(df.groupby('Birth').agg({'MathBall100':'mean','OUTID':'count'}))"
   ],
   "execution_count":17,
   "outputs":[
    {
     "name":"stdout",
     "text":[
      "       MathBall100   OUTID\n",
      "Birth                     \n",
      "1969      0.000000       1\n",
      "1970      0.000000       1\n",
      "1973      0.000000       2\n",
      "1975    113.000000       1\n",
      "1976      0.000000       4\n",
      "1977      0.000000       5\n",
      "1978     54.833333       6\n",
      "1979     40.900000      10\n",
      "1980     33.285714       7\n",
      "1981      0.000000       1\n",
      "1982     11.666667       9\n",
      "1983     31.000000      15\n",
      "1984     54.777778       9\n",
      "1985     23.785714      14\n",
      "1986     30.117647      17\n",
      "1987     34.888889       9\n",
      "1988     40.750000       4\n",
      "1989      0.000000       9\n",
      "1990     32.454545      11\n",
      "1991     25.615385      13\n",
      "1992     59.636364      11\n",
      "1993     49.000000       7\n",
      "1994      0.000000       8\n",
      "1995     66.909091      11\n",
      "1996     75.666667      12\n",
      "1997     43.888889      18\n",
      "1998     64.074074      27\n",
      "1999     31.047619      42\n",
      "2000     39.807339     110\n",
      "2001     33.947368     420\n",
      "2002     44.625561    4474\n",
      "2003     92.609016   63171\n",
      "2004    101.179356  150063\n",
      "2005    101.530625    1551\n",
      "2006    126.200000      10\n",
      "2007      0.000000       1\n"
     ],
     "output_type":"stream"
    }
   ],
   "metadata":{
    "datalore":{
     "node_id":"yBvG6uq6XVGmFx40Zlo5Ed",
     "type":"CODE",
     "hide_input_from_viewers":true,
     "hide_output_from_viewers":true
    }
   }
  },
  {
   "cell_type":"markdown",
   "source":[
    "Виведіть середнє значення `MathBall100` по кожному році народження по статусу тесту `MathTestStatus` = \"Зараховано\". Збережіть у змінну `df_by_year`."
   ],
   "attachments":{},
   "metadata":{
    "datalore":{
     "node_id":"R7XvWbKq1sDCNMR1N5Y80B",
     "type":"MD",
     "hide_input_from_viewers":true,
     "hide_output_from_viewers":true
    }
   }
  },
  {
   "cell_type":"code",
   "source":[
    "df_by_year = df[(df['MathTestStatus'] =='Зараховано')].groupby('Birth')['MathBall100'].mean()\n",
    "print(df_by_year)"
   ],
   "execution_count":59,
   "outputs":[
    {
     "name":"stdout",
     "text":[
      "Birth\n",
      "1975    113.000000\n",
      "1978    109.666667\n",
      "1979    102.250000\n",
      "1980    116.500000\n",
      "1982    105.000000\n",
      "1983    116.250000\n",
      "1984    123.250000\n",
      "1985    111.000000\n",
      "1986    128.000000\n",
      "1987    104.666667\n",
      "1988    163.000000\n",
      "1990    119.000000\n",
      "1991    111.000000\n",
      "1992    131.200000\n",
      "1993    114.333333\n",
      "1995    122.666667\n",
      "1996    113.500000\n",
      "1997    112.857143\n",
      "1998    133.076923\n",
      "1999    108.666667\n",
      "2000    120.527778\n",
      "2001    118.250000\n",
      "2002    119.037081\n",
      "2003    137.463956\n",
      "2004    139.793290\n",
      "2005    141.613309\n",
      "2006    157.750000\n",
      "Name: MathBall100, dtype: float64\n"
     ],
     "output_type":"stream"
    }
   ],
   "metadata":{
    "datalore":{
     "node_id":"ukx1Em5Fva7nfXNlhFt7oQ",
     "type":"CODE",
     "hide_input_from_viewers":true,
     "hide_output_from_viewers":true
    }
   }
  },
  {
   "cell_type":"markdown",
   "source":[
    "У змінній `df_by_year` \"скиньте\" індекси. "
   ],
   "attachments":{},
   "metadata":{
    "datalore":{
     "node_id":"1enj5VJnYZCJ7MhCORWecj",
     "type":"MD",
     "hide_input_from_viewers":true,
     "hide_output_from_viewers":true
    }
   }
  },
  {
   "cell_type":"code",
   "source":[
    "\n",
    "#\n",
    "df_by_year = df_by_year.reset_index()\n",
    "#\n",
    "df_by_year.index"
   ],
   "execution_count":60,
   "outputs":[
    {
     "data":{
      "text\/plain":[
       "RangeIndex(start=0, stop=27, step=1)"
      ]
     },
     "metadata":{},
     "output_type":"display_data"
    }
   ],
   "metadata":{
    "datalore":{
     "node_id":"SvXOaL4XorSETcbqqXEsnP",
     "type":"CODE",
     "hide_input_from_viewers":true,
     "hide_output_from_viewers":true
    }
   }
  },
  {
   "cell_type":"markdown",
   "source":[
    "А тепер назад встановіть індекс `Birth` :)"
   ],
   "attachments":{},
   "metadata":{
    "datalore":{
     "node_id":"a36P9t5VM1UKiNjoib2uK6",
     "type":"MD",
     "hide_input_from_viewers":true,
     "hide_output_from_viewers":true
    }
   }
  },
  {
   "cell_type":"code",
   "source":[
    "#\n",
    "df_by_year = df_by_year.set_index('Birth')\n",
    "#df_by_year.index\n",
    "#df_by_year"
   ],
   "execution_count":63,
   "outputs":[
    {
     "data":{
      "text\/plain":[
       "Index([1975, 1978, 1979, 1980, 1982, 1983, 1984, 1985, 1986, 1987, 1988, 1990,\n",
       "       1991, 1992, 1993, 1995, 1996, 1997, 1998, 1999, 2000, 2001, 2002, 2003,\n",
       "       2004, 2005, 2006],\n",
       "      dtype='int64', name='Birth')"
      ]
     },
     "metadata":{},
     "output_type":"display_data"
    }
   ],
   "metadata":{
    "datalore":{
     "node_id":"lFewSgOBGwNbwKVzLuOerh",
     "type":"CODE",
     "hide_input_from_viewers":true,
     "hide_output_from_viewers":true
    }
   }
  },
  {
   "cell_type":"markdown",
   "source":[
    "# Проведіть свої додактові аналітичні дослідження і опишіть отримані висновки\n",
    "\n",
    "*Можна проаналізувати район, в якому ви навчалися, чи гендерний розподіл...*"
   ],
   "attachments":{},
   "metadata":{
    "datalore":{
     "node_id":"5Xr5k5Ct1vlsUp16KPSsgz",
     "type":"MD",
     "hide_input_from_viewers":true,
     "hide_output_from_viewers":true
    }
   }
  },
  {
   "cell_type":"code",
   "source":[
    "print(df[(df['MathTestStatus'] =='Зараховано')&(df['AREANAME'] =='м.Київ')].groupby('ClassProfileNAME')['MathBall100'].mean().sort_values(ascending=False))\n",
    "# цікаво, що фізико-математика чи фізика дає більш глибокі навички ніж просто математика, хімія також непогано розвиває"
   ],
   "execution_count":77,
   "outputs":[
    {
     "name":"stdout",
     "text":[
      "ClassProfileNAME\n",
      "Фізико-математичний                     182.182813\n",
      "Фізичний                                177.222222\n",
      "Математичний                            167.020101\n",
      "Хіміко-технологічний та агрохімічний    164.473684\n",
      "Економічний                             157.707965\n",
      "Інформаційно-технологічний              157.648289\n",
      "Біолого-хімічний                        152.500000\n",
      "Іноземної філології                     150.156790\n",
      "Екологічний                             146.750000\n",
      "Біотехнологічний                        145.557692\n",
      "Інший(багатопрофільність)               145.347603\n",
      "Універсальний                           144.489818\n",
      "Географічний                            142.130435\n",
      "Історичний                              142.043321\n",
      "Художньо-естетичний                     141.847826\n",
      "Технологічний                           141.104167\n",
      "Біологічний                             140.472000\n",
      "Української філології                   138.928358\n",
      "Правовий                                136.735537\n",
      "Військово-спортивний                    134.874016\n",
      "Біолого-фізичний                        130.888889\n",
      "Спортивний                              128.529412\n",
      "Молодший спеціаліст                     128.036114\n",
      "Кваліфікований робітник                 113.807292\n",
      "Name: MathBall100, dtype: float64\n"
     ],
     "output_type":"stream"
    }
   ],
   "metadata":{
    "datalore":{
     "node_id":"Op4GjAY78t0GCluArSiK0H",
     "type":"CODE",
     "hide_input_from_viewers":true,
     "hide_output_from_viewers":true
    }
   }
  },
  {
   "cell_type":"markdown",
   "source":[
    "# Завдання 2\n",
    "\n",
    "Знайома вже нам база даних з вином знову пригодиться в роботі. \n",
    "\n",
    "\n",
    "1) Потрібно приєднатися до бази даних Azure SQL із вином\n",
    "2) Вибрати лише таблицю із закупкою і з продажами\n",
    "3) Агрегувати таблиці, щоб залишити лише дату і к-сть"
   ],
   "attachments":{},
   "metadata":{
    "datalore":{
     "node_id":"0ln6iSf805RfbDJbF2kd5b",
     "type":"MD",
     "hide_input_from_viewers":true,
     "hide_output_from_viewers":true
    }
   }
  },
  {
   "cell_type":"code",
   "source":[
    "#for choose kernel \n",
    "# Ctrl+Shift+P\n",
    "# Reinstall Python and Jupyter extensions\n",
    "# \n",
    "#import pandas as pd, pyodbc    #python -m pip install pyodbc\n",
    "#connection_string = 'DRIVER={SQL Server};SERVER=;DATABASE=data-wizard-students;UID=student;PWD=;TrustServerCertificate=no;Connection Timeout=30'\n",
    "#cnn = pyodbc.connect(connection_string)\n",
    "#query = \"\"\"\n",
    "#  SELECT SaleDate, sum(QuantitySold) as SmQuantitySold\n",
    "#  FROM Sales\n",
    "#  Group By SaleDate\n",
    "#\"\"\"\n",
    "#result = pd.read_sql(query, cnn)\n",
    "#df = pl.from_pandas(result) import polars as pl\n",
    "#result.columns.tolist()\n",
    "\n",
    "import pymssql\n",
    "import pandas as pd\n",
    "server = ''\n",
    "database = 'data-wizard-students'\n",
    "username = 'student'\n",
    "password = ''\n",
    "conn = pymssql.connect(server, username, password, database)\n",
    "query = \"\"\"\n",
    "SELECT uDate, sum(QuantitySold) as SmQuantitySold, sum(QuantityPurchased) as SmQuantityPurchased FROM \n",
    "(\n",
    "  SELECT SaleDate as uDate, QuantitySold, 0 as QuantityPurchased\n",
    "  FROM Sales\n",
    "  UNION ALL\n",
    "  SELECT PurchaseDate, 0, QuantityPurchased \n",
    "  FROM Purchases\n",
    "  ) tbl\n",
    "Group By uDate  \n",
    "\"\"\"\n",
    "result = pd.read_sql(query, conn)\n",
    "result"
   ],
   "execution_count":8,
   "outputs":[
    {
     "name":"stdout",
     "text":[
      "\n"
     ],
     "output_type":"stream"
    },
    {
     "name":"stderr",
     "text":[
      "<ipython-input-8-0430b99f9a60>:31: UserWarning: pandas only supports SQLAlchemy connectable (engine\/connection) or database string URI or sqlite3 DBAPI2 connection. Other DBAPI2 objects are not tested. Please consider using SQLAlchemy.\n",
      "  result = pd.read_sql(query, conn)\n",
      "\n"
     ],
     "output_type":"stream"
    },
    {
     "data":{
      "text\/html":[
       "<div>\n",
       "<style scoped>\n",
       "    .dataframe tbody tr th:only-of-type {\n",
       "        vertical-align: middle;\n",
       "    }\n",
       "\n",
       "    .dataframe tbody tr th {\n",
       "        vertical-align: top;\n",
       "    }\n",
       "\n",
       "    .dataframe thead th {\n",
       "        text-align: right;\n",
       "    }\n",
       "<\/style>\n",
       "<table border=\"1\" class=\"dataframe\">\n",
       "  <thead>\n",
       "    <tr style=\"text-align: right;\">\n",
       "      <th><\/th>\n",
       "      <th>uDate<\/th>\n",
       "      <th>SmQuantitySold<\/th>\n",
       "      <th>SmQuantityPurchased<\/th>\n",
       "    <\/tr>\n",
       "  <\/thead>\n",
       "  <tbody>\n",
       "    <tr>\n",
       "      <th>0<\/th>\n",
       "      <td>2022-03-15<\/td>\n",
       "      <td>0<\/td>\n",
       "      <td>5<\/td>\n",
       "    <\/tr>\n",
       "    <tr>\n",
       "      <th>1<\/th>\n",
       "      <td>2022-03-20<\/td>\n",
       "      <td>3<\/td>\n",
       "      <td>0<\/td>\n",
       "    <\/tr>\n",
       "    <tr>\n",
       "      <th>2<\/th>\n",
       "      <td>2022-04-28<\/td>\n",
       "      <td>0<\/td>\n",
       "      <td>3<\/td>\n",
       "    <\/tr>\n",
       "    <tr>\n",
       "      <th>3<\/th>\n",
       "      <td>2022-05-20<\/td>\n",
       "      <td>0<\/td>\n",
       "      <td>10<\/td>\n",
       "    <\/tr>\n",
       "    <tr>\n",
       "      <th>4<\/th>\n",
       "      <td>2022-05-25<\/td>\n",
       "      <td>5<\/td>\n",
       "      <td>0<\/td>\n",
       "    <\/tr>\n",
       "    <tr>\n",
       "      <th>5<\/th>\n",
       "      <td>2022-06-12<\/td>\n",
       "      <td>0<\/td>\n",
       "      <td>2<\/td>\n",
       "    <\/tr>\n",
       "    <tr>\n",
       "      <th>6<\/th>\n",
       "      <td>2022-06-15<\/td>\n",
       "      <td>6<\/td>\n",
       "      <td>0<\/td>\n",
       "    <\/tr>\n",
       "    <tr>\n",
       "      <th>7<\/th>\n",
       "      <td>2022-07-10<\/td>\n",
       "      <td>0<\/td>\n",
       "      <td>8<\/td>\n",
       "    <\/tr>\n",
       "    <tr>\n",
       "      <th>8<\/th>\n",
       "      <td>2022-07-15<\/td>\n",
       "      <td>7<\/td>\n",
       "      <td>0<\/td>\n",
       "    <\/tr>\n",
       "    <tr>\n",
       "      <th>9<\/th>\n",
       "      <td>2022-08-02<\/td>\n",
       "      <td>0<\/td>\n",
       "      <td>6<\/td>\n",
       "    <\/tr>\n",
       "    <tr>\n",
       "      <th>10<\/th>\n",
       "      <td>2022-08-05<\/td>\n",
       "      <td>4<\/td>\n",
       "      <td>0<\/td>\n",
       "    <\/tr>\n",
       "    <tr>\n",
       "      <th>11<\/th>\n",
       "      <td>2022-09-05<\/td>\n",
       "      <td>0<\/td>\n",
       "      <td>7<\/td>\n",
       "    <\/tr>\n",
       "    <tr>\n",
       "      <th>12<\/th>\n",
       "      <td>2022-09-10<\/td>\n",
       "      <td>1<\/td>\n",
       "      <td>0<\/td>\n",
       "    <\/tr>\n",
       "    <tr>\n",
       "      <th>13<\/th>\n",
       "      <td>2022-10-30<\/td>\n",
       "      <td>0<\/td>\n",
       "      <td>9<\/td>\n",
       "    <\/tr>\n",
       "    <tr>\n",
       "      <th>14<\/th>\n",
       "      <td>2022-11-02<\/td>\n",
       "      <td>4<\/td>\n",
       "      <td>0<\/td>\n",
       "    <\/tr>\n",
       "    <tr>\n",
       "      <th>15<\/th>\n",
       "      <td>2022-11-18<\/td>\n",
       "      <td>0<\/td>\n",
       "      <td>4<\/td>\n",
       "    <\/tr>\n",
       "    <tr>\n",
       "      <th>16<\/th>\n",
       "      <td>2022-11-25<\/td>\n",
       "      <td>8<\/td>\n",
       "      <td>0<\/td>\n",
       "    <\/tr>\n",
       "    <tr>\n",
       "      <th>17<\/th>\n",
       "      <td>2022-12-22<\/td>\n",
       "      <td>0<\/td>\n",
       "      <td>1<\/td>\n",
       "    <\/tr>\n",
       "    <tr>\n",
       "      <th>18<\/th>\n",
       "      <td>2023-09-20<\/td>\n",
       "      <td>2<\/td>\n",
       "      <td>2<\/td>\n",
       "    <\/tr>\n",
       "    <tr>\n",
       "      <th>19<\/th>\n",
       "      <td>2023-09-21<\/td>\n",
       "      <td>3<\/td>\n",
       "      <td>3<\/td>\n",
       "    <\/tr>\n",
       "    <tr>\n",
       "      <th>20<\/th>\n",
       "      <td>2023-09-22<\/td>\n",
       "      <td>4<\/td>\n",
       "      <td>4<\/td>\n",
       "    <\/tr>\n",
       "    <tr>\n",
       "      <th>21<\/th>\n",
       "      <td>2023-09-23<\/td>\n",
       "      <td>0<\/td>\n",
       "      <td>1<\/td>\n",
       "    <\/tr>\n",
       "    <tr>\n",
       "      <th>22<\/th>\n",
       "      <td>2023-09-24<\/td>\n",
       "      <td>5<\/td>\n",
       "      <td>5<\/td>\n",
       "    <\/tr>\n",
       "    <tr>\n",
       "      <th>23<\/th>\n",
       "      <td>2023-09-25<\/td>\n",
       "      <td>2<\/td>\n",
       "      <td>2<\/td>\n",
       "    <\/tr>\n",
       "    <tr>\n",
       "      <th>24<\/th>\n",
       "      <td>2023-09-26<\/td>\n",
       "      <td>3<\/td>\n",
       "      <td>3<\/td>\n",
       "    <\/tr>\n",
       "    <tr>\n",
       "      <th>25<\/th>\n",
       "      <td>2023-09-27<\/td>\n",
       "      <td>4<\/td>\n",
       "      <td>4<\/td>\n",
       "    <\/tr>\n",
       "    <tr>\n",
       "      <th>26<\/th>\n",
       "      <td>2023-09-28<\/td>\n",
       "      <td>0<\/td>\n",
       "      <td>1<\/td>\n",
       "    <\/tr>\n",
       "    <tr>\n",
       "      <th>27<\/th>\n",
       "      <td>2023-09-29<\/td>\n",
       "      <td>5<\/td>\n",
       "      <td>5<\/td>\n",
       "    <\/tr>\n",
       "    <tr>\n",
       "      <th>28<\/th>\n",
       "      <td>2023-09-30<\/td>\n",
       "      <td>2<\/td>\n",
       "      <td>2<\/td>\n",
       "    <\/tr>\n",
       "    <tr>\n",
       "      <th>29<\/th>\n",
       "      <td>2023-10-01<\/td>\n",
       "      <td>3<\/td>\n",
       "      <td>3<\/td>\n",
       "    <\/tr>\n",
       "    <tr>\n",
       "      <th>30<\/th>\n",
       "      <td>2023-10-02<\/td>\n",
       "      <td>4<\/td>\n",
       "      <td>4<\/td>\n",
       "    <\/tr>\n",
       "    <tr>\n",
       "      <th>31<\/th>\n",
       "      <td>2023-10-03<\/td>\n",
       "      <td>0<\/td>\n",
       "      <td>1<\/td>\n",
       "    <\/tr>\n",
       "    <tr>\n",
       "      <th>32<\/th>\n",
       "      <td>2023-10-04<\/td>\n",
       "      <td>5<\/td>\n",
       "      <td>5<\/td>\n",
       "    <\/tr>\n",
       "    <tr>\n",
       "      <th>33<\/th>\n",
       "      <td>2023-10-05<\/td>\n",
       "      <td>2<\/td>\n",
       "      <td>2<\/td>\n",
       "    <\/tr>\n",
       "    <tr>\n",
       "      <th>34<\/th>\n",
       "      <td>2023-10-06<\/td>\n",
       "      <td>3<\/td>\n",
       "      <td>3<\/td>\n",
       "    <\/tr>\n",
       "    <tr>\n",
       "      <th>35<\/th>\n",
       "      <td>2023-10-07<\/td>\n",
       "      <td>4<\/td>\n",
       "      <td>0<\/td>\n",
       "    <\/tr>\n",
       "    <tr>\n",
       "      <th>36<\/th>\n",
       "      <td>2023-10-09<\/td>\n",
       "      <td>5<\/td>\n",
       "      <td>0<\/td>\n",
       "    <\/tr>\n",
       "  <\/tbody>\n",
       "<\/table>\n",
       "<\/div>"
      ]
     },
     "metadata":{},
     "output_type":"display_data"
    }
   ],
   "metadata":{
    "datalore":{
     "node_id":"W35pTXDKzZSJqNoS8p0wfI",
     "type":"CODE",
     "hide_input_from_viewers":true,
     "hide_output_from_viewers":true
    }
   }
  },
  {
   "cell_type":"markdown",
   "source":[
    "# Sheet 4"
   ],
   "attachments":{},
   "metadata":{
    "datalore":{
     "node_id":"Sheet 4",
     "type":"MD",
     "hide_input_from_viewers":false,
     "hide_output_from_viewers":false,
     "sheet_delimiter":true
    }
   }
  },
  {
   "cell_type":"code",
   "source":[
    "import pandas as pd\n",
    "df = pd.read_pickle('zno-2021.pckl')\n",
    "###############\n",
    "df['MathBall100'] = df['MathBall100'].str.replace(',','.')\n",
    "df.MathBall100 = df.MathBall100.astype('float64')\n",
    "df = df[df.columns.drop(list(df.filter(regex='MathSt')))]\n",
    "df['MathTestStatus'].unique()\n",
    "names_to_select = ['Зараховано', 'Не подолав поріг', 'Не з’явився', 'Анульовано']\n",
    "df = df[df['MathTestStatus'].isin(names_to_select)]\n",
    "###############\n",
    "sdf = df[(df['MathTestStatus'] =='Зараховано')&(df['AREANAME'] =='м.Київ')&(df['ClassProfileNAME'] =='Фізико-математичний')&(df['MathBall100'] > 160)].sort_values('MathBall100', ascending=False)\n",
    "ssdf = sdf[['OUTID','TERNAME','EONAME']].groupby(['TERNAME','EONAME'])['OUTID'].count().sort_values(ascending=False)\n",
    "#print(type(ssdf)) #'pandas.core.series.Series'\n",
    "#ssdf.values\n",
    "#ssdf.index\n",
    "dssdf = pd.DataFrame(ssdf).reset_index()\n",
    "dssdf"
   ],
   "execution_count":12,
   "outputs":[
    {
     "data":{
      "text\/html":[
       "<div>\n",
       "<style scoped>\n",
       "    .dataframe tbody tr th:only-of-type {\n",
       "        vertical-align: middle;\n",
       "    }\n",
       "\n",
       "    .dataframe tbody tr th {\n",
       "        vertical-align: top;\n",
       "    }\n",
       "\n",
       "    .dataframe thead th {\n",
       "        text-align: right;\n",
       "    }\n",
       "<\/style>\n",
       "<table border=\"1\" class=\"dataframe\">\n",
       "  <thead>\n",
       "    <tr style=\"text-align: right;\">\n",
       "      <th><\/th>\n",
       "      <th>TERNAME<\/th>\n",
       "      <th>EONAME<\/th>\n",
       "      <th>OUTID<\/th>\n",
       "    <\/tr>\n",
       "  <\/thead>\n",
       "  <tbody>\n",
       "    <tr>\n",
       "      <th>0<\/th>\n",
       "      <td>Солом'янський район міста<\/td>\n",
       "      <td>Технічний ліцей Національного технічного уніве...<\/td>\n",
       "      <td>101<\/td>\n",
       "    <\/tr>\n",
       "    <tr>\n",
       "      <th>1<\/th>\n",
       "      <td>Голосіївський район міста<\/td>\n",
       "      <td>Український фізико-математичний ліцей Київсько...<\/td>\n",
       "      <td>88<\/td>\n",
       "    <\/tr>\n",
       "    <tr>\n",
       "      <th>2<\/th>\n",
       "      <td>Печерський район міста<\/td>\n",
       "      <td>Природничо-науковий ліцей №145 Печерського рай...<\/td>\n",
       "      <td>80<\/td>\n",
       "    <\/tr>\n",
       "    <tr>\n",
       "      <th>3<\/th>\n",
       "      <td>Солом'янський район міста<\/td>\n",
       "      <td>Ліцей №142 м.Києва<\/td>\n",
       "      <td>64<\/td>\n",
       "    <\/tr>\n",
       "    <tr>\n",
       "      <th>4<\/th>\n",
       "      <td>Дніпровський район міста<\/td>\n",
       "      <td>Ліцей №208 м. Києва<\/td>\n",
       "      <td>51<\/td>\n",
       "    <\/tr>\n",
       "    <tr>\n",
       "      <th>5<\/th>\n",
       "      <td>Солом'янський район міста<\/td>\n",
       "      <td>Авіакосмічний ліцей ім. І.Сікорського НАУ м.Києва<\/td>\n",
       "      <td>50<\/td>\n",
       "    <\/tr>\n",
       "    <tr>\n",
       "      <th>6<\/th>\n",
       "      <td>Дніпровський район міста<\/td>\n",
       "      <td>Русанівський ліцей м. Києва<\/td>\n",
       "      <td>49<\/td>\n",
       "    <\/tr>\n",
       "    <tr>\n",
       "      <th>7<\/th>\n",
       "      <td>Святошинський район міста<\/td>\n",
       "      <td>Спеціалізована школа №185 імені Володимира Вер...<\/td>\n",
       "      <td>28<\/td>\n",
       "    <\/tr>\n",
       "    <tr>\n",
       "      <th>8<\/th>\n",
       "      <td>Солом'янський район міста<\/td>\n",
       "      <td>Політехнічний ліцей Національного технічного у...<\/td>\n",
       "      <td>28<\/td>\n",
       "    <\/tr>\n",
       "    <tr>\n",
       "      <th>9<\/th>\n",
       "      <td>Подільський район міста<\/td>\n",
       "      <td>Загальноосвітній навчальний заклад І-ІІІ ступе...<\/td>\n",
       "      <td>21<\/td>\n",
       "    <\/tr>\n",
       "    <tr>\n",
       "      <th>10<\/th>\n",
       "      <td>Подільський район міста<\/td>\n",
       "      <td>ПРИВАТНА ОРГАНІЗАЦІЯ (УСТАНОВА, ЗАКЛАД) \"ЗАКЛА...<\/td>\n",
       "      <td>4<\/td>\n",
       "    <\/tr>\n",
       "  <\/tbody>\n",
       "<\/table>\n",
       "<\/div>"
      ]
     },
     "metadata":{},
     "output_type":"display_data"
    }
   ],
   "metadata":{
    "datalore":{
     "node_id":"V3jFzXTktxMre5RQZiSJNO",
     "type":"CODE",
     "hide_input_from_viewers":true,
     "hide_output_from_viewers":true
    }
   }
  }
 ],
 "metadata":{
  "kernelspec":{
   "display_name":"Python",
   "language":"python",
   "name":"python"
  },
  "datalore":{
   "computation_mode":"JUPYTER",
   "package_manager":"pip",
   "base_environment":"default",
   "packages":[
    {
     "name":"pyodbc",
     "version":"5.0.1",
     "source":"PIP"
    },
    {
     "name":"pymssql",
     "version":"2.2.11",
     "source":"PIP"
    }
   ],
   "report_row_ids":[],
   "version":3
  }
 },
 "nbformat":4,
 "nbformat_minor":4
}