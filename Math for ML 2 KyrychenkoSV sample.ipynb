{
 "cells":[
  {
   "cell_type":"markdown",
   "source":[
    "# Homework"
   ],
   "attachments":{},
   "metadata":{
    "datalore":{
     "node_id":"Homework",
     "type":"MD",
     "hide_input_from_viewers":false,
     "hide_output_from_viewers":false,
     "sheet_delimiter":true
    }
   }
  },
  {
   "cell_type":"markdown",
   "source":[
    "**Домашня задача №1**\n",
    "\n",
    "\n",
    "У вас є портфель інвестицій, в якому ви інвестуєте у 3 різних акції (Акція A, Акція B, Акція C). Вартість кожної акції відома на початку року, і ви маєте вектор кількостей акцій, які ви купили. Розрахуйте загальну вартість вашого портфеля."
   ],
   "attachments":{},
   "metadata":{
    "datalore":{
     "node_id":"TcnTQJHu2cq5V9kbRlkZxj",
     "type":"MD",
     "hide_input_from_viewers":true,
     "hide_output_from_viewers":true
    }
   }
  },
  {
   "cell_type":"code",
   "source":[
    "import numpy as np\n",
    "\n",
    "shares = np.array([10, 20, 30])\n",
    "stock_prices = np.array([50, 60, 70])\n",
    "\n",
    "#загальну вартість портфеля виражає Скалярний добуток двох векторів:\n",
    "\n",
    "total_cost = np.dot(shares, stock_prices)\n",
    "print(\"Загальна вартість портфеля:\", total_cost)"
   ],
   "execution_count":2,
   "outputs":[
    {
     "name":"stdout",
     "text":[
      "Загальна вартість портфеля: 3800\n"
     ],
     "output_type":"stream"
    }
   ],
   "metadata":{
    "datalore":{
     "node_id":"xNI0gI0G8tvPohyzI88KWp",
     "type":"CODE",
     "hide_input_from_viewers":true,
     "hide_output_from_viewers":true
    }
   }
  },
  {
   "cell_type":"markdown",
   "source":[
    "**Домашня задача №2**\n",
    "\n",
    "Реалізувати рекомендаційну систему на основі файлу `critics_dataframe.pkl`.\n",
    "\n",
    "Врахуйте те, що в даному наборі користувач виставляє дві оцінки для фільму, тобто в результаті потрібно знаходити відстань у двохвимірному просторі. "
   ],
   "attachments":{},
   "metadata":{
    "datalore":{
     "node_id":"uziOqup9BSqcykxp9PzW1S",
     "type":"MD",
     "hide_input_from_viewers":true,
     "hide_output_from_viewers":true
    }
   }
  },
  {
   "cell_type":"code",
   "source":[
    "import pandas as pd\n",
    "import numpy as np\n",
    "import math\n",
    "df = pd.read_pickle('critics_dataframe.pkl')\n",
    "\"\"\"Переформатовуємо наш дата фрейм, обєднуючи Rating та Interest у вектор\"\"\"\n",
    "for film in df.columns:\n",
    "    if film.endswith('_Rating'):\n",
    "        films = film.strip('_Rating')\n",
    "    elif film.endswith('_Interest'):\n",
    "        films = film.replace('_Interest','')\n",
    "    df[str(films)]= df[[str(films)+'_Rating', str(films)+'_Interest']].values.tolist()\n",
    "df = df[df.columns.drop(list(df.filter(regex='_Rating')))]\n",
    "df = df[df.columns.drop(list(df.filter(regex='_Interest')))]\n",
    "\"\"\"створюємо новий датафрейм\"\"\"\n",
    "dfscore= pd.DataFrame(df.index,columns=['person'])\n",
    "dfscore['score'] = \"\"\n",
    "dfscore.set_index('person', inplace=True)\n",
    "for i, person1 in enumerate(df.index):\n",
    "    d = []\n",
    "    for person2 in df.index:\n",
    "        distance = 0\n",
    "        if person1!=person2:\n",
    "            for film in df.columns:\n",
    "                \"\"\"якщо спільний фільм рахуємо евклідову відстань\"\"\"\n",
    "                if ~np.isnan(df.loc[str(person1)][str(film)]).any()&~np.isnan(df.loc[str(person2)][str(film)]).any(): \n",
    "                    distance += np.linalg.norm(np.array(df.loc[str(person1)][str(film)]) - np.array(df.loc[str(person2)][str(film)]))\n",
    "            d.append((person2,  round(1 \/ (1 + math.sqrt(distance)), 2)))\n",
    "    dfscore.at[person1,'score']=str(d)\n",
    "dfscore"
   ],
   "execution_count":48,
   "outputs":[
    {
     "data":{
      "text\/html":[
       "<div>\n",
       "<style scoped>\n",
       "    .dataframe tbody tr th:only-of-type {\n",
       "        vertical-align: middle;\n",
       "    }\n",
       "\n",
       "    .dataframe tbody tr th {\n",
       "        vertical-align: top;\n",
       "    }\n",
       "\n",
       "    .dataframe thead th {\n",
       "        text-align: right;\n",
       "    }\n",
       "<\/style>\n",
       "<table border=\"1\" class=\"dataframe\">\n",
       "  <thead>\n",
       "    <tr style=\"text-align: right;\">\n",
       "      <th><\/th>\n",
       "      <th>score<\/th>\n",
       "    <\/tr>\n",
       "    <tr>\n",
       "      <th>person<\/th>\n",
       "      <th><\/th>\n",
       "    <\/tr>\n",
       "  <\/thead>\n",
       "  <tbody>\n",
       "    <tr>\n",
       "      <th>Ліза Іванова<\/th>\n",
       "      <td>[('Ігор Петренко', 0.26), ('Міша Майдан', 0.29...<\/td>\n",
       "    <\/tr>\n",
       "    <tr>\n",
       "      <th>Ігор Петренко<\/th>\n",
       "      <td>[('Ліза Іванова', 0.26), ('Міша Майдан', 0.25)...<\/td>\n",
       "    <\/tr>\n",
       "    <tr>\n",
       "      <th>Міша Майдан<\/th>\n",
       "      <td>[('Ліза Іванова', 0.29), ('Ігор Петренко', 0.2...<\/td>\n",
       "    <\/tr>\n",
       "    <tr>\n",
       "      <th>Клавдія Мороз<\/th>\n",
       "      <td>[('Ліза Іванова', 0.31), ('Ігор Петренко', 0.2...<\/td>\n",
       "    <\/tr>\n",
       "    <tr>\n",
       "      <th>Аня Товкач<\/th>\n",
       "      <td>[('Ліза Іванова', 0.24), ('Ігор Петренко', 0.2...<\/td>\n",
       "    <\/tr>\n",
       "    <tr>\n",
       "      <th>Матвій Чорний<\/th>\n",
       "      <td>[('Ліза Іванова', 0.24), ('Ігор Петренко', 0.2...<\/td>\n",
       "    <\/tr>\n",
       "    <tr>\n",
       "      <th>Сергій Вацак<\/th>\n",
       "      <td>[('Ліза Іванова', 0.31), ('Ігор Петренко', 0.2...<\/td>\n",
       "    <\/tr>\n",
       "  <\/tbody>\n",
       "<\/table>\n",
       "<\/div>"
      ]
     },
     "metadata":{},
     "output_type":"display_data"
    }
   ],
   "metadata":{
    "datalore":{
     "node_id":"Y5DUkjGsyWfUjDX5o2XP7M",
     "type":"CODE",
     "hide_input_from_viewers":true,
     "hide_output_from_viewers":true
    }
   }
  },
  {
   "cell_type":"markdown",
   "source":[
    "**Домашня задача №3**\n",
    "\n",
    "Давайте розглянемо задачу оптимізації розподілу бюджету для рекламної кампанії. Маємо три канали реклами: онлайн, телевізія та радіо. Кожен канал має різну вартість за одиницю реклами та різну ефективність. Мета полягає в тому, щоб максимізувати загальний охоплення аудиторії, не перевищуючи загальний бюджет.\n",
    "\n",
    "Параметри:\n",
    "\n",
    "Бюджет: 100,000\n",
    "Вартість за одиницю: онлайн - 100, телевізія - 500, радіо - 250\n",
    "Охоплення за одиницю: онлайн - 1000 осіб, телевізія - 5000 осіб, радіо - 3000 осіб\n",
    "Мінімальна кількість одиниць, яку потрібно купити у кожному каналі: онлайн - 100, телевізія - 10, радіо - 30"
   ],
   "attachments":{},
   "metadata":{
    "datalore":{
     "node_id":"rnIUkDK2rgJ4TeqbIOz1jc",
     "type":"MD",
     "hide_input_from_viewers":true,
     "hide_output_from_viewers":true
    }
   }
  },
  {
   "cell_type":"code",
   "source":[
    "# (онлайн, телевізія та радіо)\n",
    "# Вартість за одиницю (100, 500, 250)\n",
    "# max Охоплення за одиницю: (1000, 5000, 3000)\n",
    "# Мінімальна кількість одиниць, яку потрібно купити у кожному каналі: (100, 10, 30)\n",
    "# <= Бюджет: 100,000\n",
    "\n",
    "# Цільова функція ( загальне охоплення аудиторії, якe потрібно максимізувати): 1000x+5000y+3000z = C #coverage\n",
    "# Обмеження за бюджетом: 100x+500y+250z ≤ 100000\n",
    "# Обмеження за кількістю одиниць: x ≥ 100, y ≥ 10, z ≥ 30\n",
    "\n",
    "from scipy.optimize import linprog\n",
    "# Коефіцієнти цільової функції (прибуток для продуктів A та B)\n",
    "c = [-1000, -5000, -3000]  # Взято зі знаком мінус, тому що linprog мінімізує функцію\n",
    "# Коефіцієнти обмежень \n",
    "A = [[100,500,250]]  # Мінімальна кількість одиниць\n",
    "# Границі обмежень (Бюджет)\n",
    "b = [100000]\n",
    "\n",
    "# Межі для змінних (x, y, z)\n",
    "x_bounds = (100, None)  \n",
    "y_bounds = (10, None) \n",
    "z_bounds = (30, None)\n",
    "\n",
    "# Виклик linprog для розв'язання задачі\n",
    "result = linprog(c, A_ub=A, b_ub=b, bounds=[x_bounds, y_bounds, z_bounds], method='highs')\n",
    "\n",
    "result_x, result_y, result_z = result.x\n",
    "max_profit = -result.fun  # Повернення знаку прибутку на позитивний\n",
    "\n",
    "result_x, result_y, result_z, max_profit"
   ],
   "execution_count":61,
   "outputs":[
    {
     "data":{
      "text\/plain":[
       "(100.0, 10.0, 340.0, 1170000.0)"
      ]
     },
     "metadata":{},
     "output_type":"display_data"
    }
   ],
   "metadata":{
    "datalore":{
     "node_id":"pNvCanWAlHfzY66HjSeEFy",
     "type":"CODE",
     "hide_input_from_viewers":true,
     "hide_output_from_viewers":true
    }
   }
  }
 ],
 "metadata":{
  "kernelspec":{
   "display_name":"Python",
   "language":"python",
   "name":"python"
  },
  "datalore":{
   "computation_mode":"JUPYTER",
   "package_manager":"pip",
   "base_environment":"default",
   "packages":[],
   "report_row_ids":[],
   "version":3
  }
 },
 "nbformat":4,
 "nbformat_minor":4
}